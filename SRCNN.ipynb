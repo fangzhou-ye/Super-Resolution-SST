{
 "cells": [
  {
   "cell_type": "code",
   "execution_count": 3,
   "id": "5b990939",
   "metadata": {
    "id": "5b990939"
   },
   "outputs": [],
   "source": [
    "import os\n",
    "import copy\n",
    "import glob\n",
    "import cv2\n",
    "from PIL import Image\n",
    "import matplotlib.pyplot as plt\n",
    "import numpy as np\n",
    "import math\n",
    "from tqdm import tqdm\n",
    "\n",
    "import torch\n",
    "from torch import nn\n",
    "from torch.utils.data import Dataset\n",
    "from torch.utils.data import DataLoader\n",
    "from torch.nn import MSELoss\n",
    "from torchvision import transforms\n",
    "from torch.optim import lr_scheduler\n",
    "from torch.nn.modules.activation import ReLU, Sigmoid\n",
    "from torch.nn import Conv2d, modules\n",
    "from torch.nn import Sequential\n",
    "\n",
    "import torch.backends.cudnn as cudnn"
   ]
  },
  {
   "cell_type": "code",
   "execution_count": 2,
   "id": "1a472338",
   "metadata": {},
   "outputs": [
    {
     "name": "stdout",
     "output_type": "stream",
     "text": [
      "Collecting opencv-python\n",
      "  Downloading opencv_python-4.5.5.62-cp36-abi3-win_amd64.whl (35.4 MB)\n",
      "Requirement already satisfied: numpy>=1.17.3 in c:\\users\\fangz\\anaconda3\\lib\\site-packages (from opencv-python) (1.20.3)\n",
      "Installing collected packages: opencv-python\n",
      "Successfully installed opencv-python-4.5.5.62\n"
     ]
    }
   ],
   "source": [
    "!pip install opencv-python"
   ]
  },
  {
   "cell_type": "code",
   "execution_count": 4,
   "id": "40752628",
   "metadata": {
    "id": "40752628"
   },
   "outputs": [],
   "source": [
    "# utils functions\n",
    "def img_read(fPath):\n",
    "    '''\n",
    "    read the image given path \"fPath\"\n",
    "    '''\n",
    "    img = cv2.imread(fPath, -1) # single channel image\n",
    "    # img = cv2.cvtColor(img, cv2.COLOR_BGR2RGB)\n",
    "    return img\n",
    "\n",
    "def getLR(hr_img, scale):\n",
    "    '''\n",
    "    bibubic downsmaple to get the corresponding low-resolution image by scaling factor \"scale\"\n",
    "    '''\n",
    "    h_orig, w_orig = hr_img.shape\n",
    "    h, w = int(h_orig/scale), int(w_orig/scale)\n",
    "    lr_img = cv2.resize(hr_img, (w, h), interpolation=cv2.INTER_NEAREST) # 30*30\n",
    "    lr_img = cv2.resize(lr_img, (w_orig, h_orig), interpolation=cv2.INTER_CUBIC) # 120*120\n",
    "    return lr_img\n",
    "\n",
    "def computePSNR(img1, img2):\n",
    "    '''\n",
    "    compute PSNR(Peak Signal to Noise Ratio) to calculate accuracy\n",
    "    img1 and img2 have range [0, 1], and both are gray level images\n",
    "    '''\n",
    "    if not img1.shape == img2.shape:\n",
    "        print(\"Input images must have the same dimensions.\")\n",
    "    mse = torch.mean((img1-img2)**2)\n",
    "    if mse == 0: # img1 and img2 are same images\n",
    "        return float('inf')\n",
    "    return 10.0 * torch.log10(1.0/mse)"
   ]
  },
  {
   "cell_type": "code",
   "execution_count": 5,
   "id": "2d78590b",
   "metadata": {
    "id": "2d78590b"
   },
   "outputs": [],
   "source": [
    "class SRCNN(nn.Module):\n",
    "    def __init__(self, num_channels=3):\n",
    "        super(SRCNN, self).__init__()\n",
    "        self.conv1 = nn.Conv2d(in_channels=num_channels, \n",
    "                               out_channels=64, \n",
    "                               kernel_size=9, \n",
    "                               padding=9 // 2)\n",
    "        self.conv2 = nn.Conv2d(in_channels=64, \n",
    "                               out_channels=32, \n",
    "                               kernel_size=5, \n",
    "                               padding=5 // 2)\n",
    "        self.conv3 = nn.Conv2d(in_channels=32, \n",
    "                               out_channels=num_channels, \n",
    "                               kernel_size=5, \n",
    "                               padding=5 // 2)\n",
    "        self.relu = nn.ReLU(inplace=True)\n",
    "        \n",
    "    def forward(self, x):\n",
    "        x = self.relu(self.conv1(x))\n",
    "        x = self.relu(self.conv2(x))\n",
    "        x = self.conv3(x)\n",
    "        return x"
   ]
  },
  {
   "cell_type": "code",
   "execution_count": 6,
   "id": "30b8ef73",
   "metadata": {},
   "outputs": [],
   "source": [
    "class AverageMeter(object):\n",
    "    def __init__(self):\n",
    "        self.reset()\n",
    "\n",
    "    def reset(self):\n",
    "        self.val = 0\n",
    "        self.avg = 0\n",
    "        self.sum = 0\n",
    "        self.count = 0\n",
    "\n",
    "    def update(self, val, n=1):\n",
    "        self.val = val\n",
    "        self.sum += val * n\n",
    "        self.count += n\n",
    "        self.avg = self.sum / self.count"
   ]
  },
  {
   "cell_type": "code",
   "execution_count": 7,
   "id": "5770fc52",
   "metadata": {
    "id": "5770fc52"
   },
   "outputs": [],
   "source": [
    "class SRData(Dataset):\n",
    "    def __init__(self, imgFolder, scale, transform=None):\n",
    "        self.imgFolder = imgFolder\n",
    "        self.scale = scale\n",
    "        self.transform = transform\n",
    "        self.images = sorted(glob.glob(self.imgFolder + '/*.png')) # all image patch path\n",
    "    \n",
    "    def __getitem__(self, index):\n",
    "        hr_img = img_read(self.images[index])\n",
    "        #h = hr_img.shape[0]\n",
    "        #w = hr_img.shape[1]\n",
    "        '''\n",
    "        pre_trans = transforms.Compose([\n",
    "            transforms.ToPILImage(),\n",
    "            transforms.Resize((int(h/self.scale),int(w/self.scale)), interpolation=Image.NEAREST),\n",
    "            transforms.Resize((h,w), interpolation=Image.BICUBIC)\n",
    "        ])\n",
    "        '''\n",
    "        #lr_img = pre_trans(hr_img)\n",
    "        lr_img = getLR(hr_img, self.scale)\n",
    "        if self.transform:\n",
    "            hr_img = self.transform(hr_img)\n",
    "            lr_img = self.transform(lr_img)\n",
    "        return lr_img, hr_img\n",
    "\n",
    "    def __len__(self):\n",
    "        return len(self.images)"
   ]
  },
  {
   "cell_type": "code",
   "execution_count": 8,
   "id": "1e1e3156",
   "metadata": {
    "colab": {
     "base_uri": "https://localhost:8080/"
    },
    "id": "1e1e3156",
    "outputId": "a2e60149-a50d-4644-eb9e-0a5fd954c237"
   },
   "outputs": [
    {
     "name": "stdout",
     "output_type": "stream",
     "text": [
      "cuda available\n",
      "70946\n"
     ]
    }
   ],
   "source": [
    "'''\n",
    "hyper parameters\n",
    "'''\n",
    "DEVICE = \"cuda\" if torch.cuda.is_available() else \"cpu\"\n",
    "if DEVICE == \"cuda\":\n",
    "    print(\"cuda available\")\n",
    "    cudnn.benchmark = True\n",
    "\n",
    "BATCH_SIZE = 16\n",
    "NUM_WORKERS = 0\n",
    "LR = 1e-4\n",
    "EPOCHS = 400\n",
    "\n",
    "IMG_FOLDER = \"dataset\"\n",
    "print(len(os.listdir(IMG_FOLDER)))\n",
    "SCALE = 3\n",
    "verbose = 1"
   ]
  },
  {
   "cell_type": "code",
   "execution_count": 9,
   "id": "c685050e",
   "metadata": {
    "colab": {
     "base_uri": "https://localhost:8080/"
    },
    "id": "c685050e",
    "outputId": "3e2388c5-4cb7-4e06-d948-773d0049f0bd"
   },
   "outputs": [
    {
     "name": "stdout",
     "output_type": "stream",
     "text": [
      "train set length: 49666\n",
      "val set length: 14193\n"
     ]
    }
   ],
   "source": [
    "'''\n",
    "prepare data\n",
    "'''\n",
    "# convert input to tensor\n",
    "train_transformer = transforms.Compose([\n",
    "    transforms.ToTensor(),\n",
    "    transforms.Normalize((0.0), (1.0)) # do nothing\n",
    "])\n",
    "\n",
    "val_transformer = transforms.Compose([\n",
    "    transforms.ToTensor(),\n",
    "    transforms.Normalize((0.0), (1.0)) # do nothing\n",
    "])\n",
    "\n",
    "data = SRData(imgFolder=IMG_FOLDER, \n",
    "              scale=SCALE, \n",
    "              transform=train_transformer)\n",
    "\n",
    "train_indices = torch.arange(49666)\n",
    "val_indices = torch.arange(49666, 63859)\n",
    "\n",
    "train_data = torch.utils.data.Subset(data, train_indices)\n",
    "val_data = torch.utils.data.Subset(data, val_indices)\n",
    "# data size 7 : 2 : 1\n",
    "print(\"train set length: {}\".format(int(len(train_data))))\n",
    "print(\"val set length: {}\".format(int(len(val_data))))\n",
    "# load data\n",
    "train_dataloader = DataLoader(dataset=train_data,\n",
    "                              batch_size=BATCH_SIZE,\n",
    "                              num_workers=NUM_WORKERS,\n",
    "                              pin_memory=True,\n",
    "                              shuffle=True)\n",
    "val_dataloader = DataLoader(dataset=val_data,\n",
    "                            batch_size=1)"
   ]
  },
  {
   "cell_type": "code",
   "execution_count": 10,
   "id": "21247322",
   "metadata": {
    "colab": {
     "base_uri": "https://localhost:8080/"
    },
    "id": "21247322",
    "outputId": "8ca33923-7219-43e7-fab5-fd4158d27a43"
   },
   "outputs": [
    {
     "name": "stderr",
     "output_type": "stream",
     "text": [
      "epoch train: 1/400: 100%|█████████████████████| 49666/49666 [03:21<00:00, 246.01it/s, loss=0.001411]\n"
     ]
    },
    {
     "name": "stdout",
     "output_type": "stream",
     "text": [
      "eval PSNR: 40.84\n"
     ]
    },
    {
     "name": "stderr",
     "output_type": "stream",
     "text": [
      "epoch train: 2/400: 100%|█████████████████████| 49666/49666 [01:53<00:00, 438.25it/s, loss=0.000197]\n"
     ]
    },
    {
     "name": "stdout",
     "output_type": "stream",
     "text": [
      "eval PSNR: 43.80\n"
     ]
    },
    {
     "name": "stderr",
     "output_type": "stream",
     "text": [
      "epoch train: 3/400: 100%|█████████████████████| 49666/49666 [02:00<00:00, 413.75it/s, loss=0.000175]\n"
     ]
    },
    {
     "name": "stdout",
     "output_type": "stream",
     "text": [
      "eval PSNR: 43.68\n"
     ]
    },
    {
     "name": "stderr",
     "output_type": "stream",
     "text": [
      "epoch train: 4/400: 100%|█████████████████████| 49666/49666 [01:11<00:00, 690.31it/s, loss=0.000157]\n"
     ]
    },
    {
     "name": "stdout",
     "output_type": "stream",
     "text": [
      "eval PSNR: 43.64\n"
     ]
    },
    {
     "name": "stderr",
     "output_type": "stream",
     "text": [
      "epoch train: 5/400: 100%|█████████████████████| 49666/49666 [01:11<00:00, 695.67it/s, loss=0.000146]\n"
     ]
    },
    {
     "name": "stdout",
     "output_type": "stream",
     "text": [
      "eval PSNR: 43.14\n"
     ]
    },
    {
     "name": "stderr",
     "output_type": "stream",
     "text": [
      "epoch train: 6/400: 100%|█████████████████████| 49666/49666 [01:11<00:00, 696.71it/s, loss=0.000137]\n"
     ]
    },
    {
     "name": "stdout",
     "output_type": "stream",
     "text": [
      "eval PSNR: 44.31\n"
     ]
    },
    {
     "name": "stderr",
     "output_type": "stream",
     "text": [
      "epoch train: 7/400: 100%|█████████████████████| 49666/49666 [01:12<00:00, 688.96it/s, loss=0.000131]\n"
     ]
    },
    {
     "name": "stdout",
     "output_type": "stream",
     "text": [
      "eval PSNR: 44.46\n"
     ]
    },
    {
     "name": "stderr",
     "output_type": "stream",
     "text": [
      "epoch train: 8/400: 100%|█████████████████████| 49666/49666 [01:11<00:00, 695.35it/s, loss=0.000126]\n"
     ]
    },
    {
     "name": "stdout",
     "output_type": "stream",
     "text": [
      "eval PSNR: 44.22\n"
     ]
    },
    {
     "name": "stderr",
     "output_type": "stream",
     "text": [
      "epoch train: 9/400: 100%|█████████████████████| 49666/49666 [01:12<00:00, 688.85it/s, loss=0.000120]\n"
     ]
    },
    {
     "name": "stdout",
     "output_type": "stream",
     "text": [
      "eval PSNR: 44.54\n"
     ]
    },
    {
     "name": "stderr",
     "output_type": "stream",
     "text": [
      "epoch train: 10/400: 100%|████████████████████| 49666/49666 [01:11<00:00, 691.20it/s, loss=0.000118]\n"
     ]
    },
    {
     "name": "stdout",
     "output_type": "stream",
     "text": [
      "eval PSNR: 41.95\n"
     ]
    },
    {
     "name": "stderr",
     "output_type": "stream",
     "text": [
      "epoch train: 11/400: 100%|████████████████████| 49666/49666 [01:11<00:00, 690.82it/s, loss=0.000114]\n"
     ]
    },
    {
     "name": "stdout",
     "output_type": "stream",
     "text": [
      "eval PSNR: 44.76\n"
     ]
    },
    {
     "name": "stderr",
     "output_type": "stream",
     "text": [
      "epoch train: 12/400: 100%|████████████████████| 49666/49666 [01:11<00:00, 691.30it/s, loss=0.000111]\n"
     ]
    },
    {
     "name": "stdout",
     "output_type": "stream",
     "text": [
      "eval PSNR: 44.09\n"
     ]
    },
    {
     "name": "stderr",
     "output_type": "stream",
     "text": [
      "epoch train: 13/400: 100%|████████████████████| 49666/49666 [01:10<00:00, 701.66it/s, loss=0.000109]\n"
     ]
    },
    {
     "name": "stdout",
     "output_type": "stream",
     "text": [
      "eval PSNR: 42.62\n"
     ]
    },
    {
     "name": "stderr",
     "output_type": "stream",
     "text": [
      "epoch train: 14/400: 100%|████████████████████| 49666/49666 [01:10<00:00, 702.07it/s, loss=0.000107]\n"
     ]
    },
    {
     "name": "stdout",
     "output_type": "stream",
     "text": [
      "eval PSNR: 42.93\n"
     ]
    },
    {
     "name": "stderr",
     "output_type": "stream",
     "text": [
      "epoch train: 15/400: 100%|████████████████████| 49666/49666 [01:13<00:00, 678.72it/s, loss=0.000105]\n"
     ]
    },
    {
     "name": "stdout",
     "output_type": "stream",
     "text": [
      "eval PSNR: 44.25\n"
     ]
    },
    {
     "name": "stderr",
     "output_type": "stream",
     "text": [
      "epoch train: 16/400: 100%|████████████████████| 49666/49666 [01:10<00:00, 699.99it/s, loss=0.000104]\n"
     ]
    },
    {
     "name": "stdout",
     "output_type": "stream",
     "text": [
      "eval PSNR: 44.95\n"
     ]
    },
    {
     "name": "stderr",
     "output_type": "stream",
     "text": [
      "epoch train: 17/400: 100%|████████████████████| 49666/49666 [01:11<00:00, 694.83it/s, loss=0.000103]\n"
     ]
    },
    {
     "name": "stdout",
     "output_type": "stream",
     "text": [
      "eval PSNR: 44.00\n"
     ]
    },
    {
     "name": "stderr",
     "output_type": "stream",
     "text": [
      "epoch train: 18/400: 100%|████████████████████| 49666/49666 [01:11<00:00, 694.50it/s, loss=0.000101]\n"
     ]
    },
    {
     "name": "stdout",
     "output_type": "stream",
     "text": [
      "eval PSNR: 44.98\n"
     ]
    },
    {
     "name": "stderr",
     "output_type": "stream",
     "text": [
      "epoch train: 19/400: 100%|████████████████████| 49666/49666 [01:11<00:00, 689.89it/s, loss=0.000100]\n"
     ]
    },
    {
     "name": "stdout",
     "output_type": "stream",
     "text": [
      "eval PSNR: 45.06\n"
     ]
    },
    {
     "name": "stderr",
     "output_type": "stream",
     "text": [
      "epoch train: 20/400: 100%|████████████████████| 49666/49666 [01:11<00:00, 698.14it/s, loss=0.000099]\n"
     ]
    },
    {
     "name": "stdout",
     "output_type": "stream",
     "text": [
      "eval PSNR: 39.84\n"
     ]
    },
    {
     "name": "stderr",
     "output_type": "stream",
     "text": [
      "epoch train: 21/400: 100%|████████████████████| 49666/49666 [01:10<00:00, 708.27it/s, loss=0.000098]\n"
     ]
    },
    {
     "name": "stdout",
     "output_type": "stream",
     "text": [
      "eval PSNR: 45.04\n"
     ]
    },
    {
     "name": "stderr",
     "output_type": "stream",
     "text": [
      "epoch train: 22/400: 100%|████████████████████| 49666/49666 [01:09<00:00, 712.00it/s, loss=0.000098]\n"
     ]
    },
    {
     "name": "stdout",
     "output_type": "stream",
     "text": [
      "eval PSNR: 44.87\n"
     ]
    },
    {
     "name": "stderr",
     "output_type": "stream",
     "text": [
      "epoch train: 23/400: 100%|████████████████████| 49666/49666 [01:09<00:00, 710.33it/s, loss=0.000097]\n"
     ]
    },
    {
     "name": "stdout",
     "output_type": "stream",
     "text": [
      "eval PSNR: 45.07\n"
     ]
    },
    {
     "name": "stderr",
     "output_type": "stream",
     "text": [
      "epoch train: 24/400: 100%|████████████████████| 49666/49666 [01:09<00:00, 717.15it/s, loss=0.000096]\n"
     ]
    },
    {
     "name": "stdout",
     "output_type": "stream",
     "text": [
      "eval PSNR: 40.82\n"
     ]
    },
    {
     "name": "stderr",
     "output_type": "stream",
     "text": [
      "epoch train: 25/400: 100%|████████████████████| 49666/49666 [01:09<00:00, 716.14it/s, loss=0.000095]\n"
     ]
    },
    {
     "name": "stdout",
     "output_type": "stream",
     "text": [
      "eval PSNR: 45.13\n"
     ]
    },
    {
     "name": "stderr",
     "output_type": "stream",
     "text": [
      "epoch train: 26/400: 100%|████████████████████| 49666/49666 [01:09<00:00, 710.00it/s, loss=0.000095]\n"
     ]
    },
    {
     "name": "stdout",
     "output_type": "stream",
     "text": [
      "eval PSNR: 45.22\n"
     ]
    },
    {
     "name": "stderr",
     "output_type": "stream",
     "text": [
      "epoch train: 27/400: 100%|████████████████████| 49666/49666 [01:10<00:00, 709.06it/s, loss=0.000094]\n"
     ]
    },
    {
     "name": "stdout",
     "output_type": "stream",
     "text": [
      "eval PSNR: 45.20\n"
     ]
    },
    {
     "name": "stderr",
     "output_type": "stream",
     "text": [
      "epoch train: 28/400: 100%|████████████████████| 49666/49666 [01:09<00:00, 716.38it/s, loss=0.000093]\n"
     ]
    },
    {
     "name": "stdout",
     "output_type": "stream",
     "text": [
      "eval PSNR: 45.06\n"
     ]
    },
    {
     "name": "stderr",
     "output_type": "stream",
     "text": [
      "epoch train: 29/400: 100%|████████████████████| 49666/49666 [01:09<00:00, 716.64it/s, loss=0.000093]\n"
     ]
    },
    {
     "name": "stdout",
     "output_type": "stream",
     "text": [
      "eval PSNR: 45.31\n"
     ]
    },
    {
     "name": "stderr",
     "output_type": "stream",
     "text": [
      "epoch train: 30/400: 100%|████████████████████| 49666/49666 [01:09<00:00, 709.77it/s, loss=0.000092]\n"
     ]
    },
    {
     "name": "stdout",
     "output_type": "stream",
     "text": [
      "eval PSNR: 45.12\n"
     ]
    },
    {
     "name": "stderr",
     "output_type": "stream",
     "text": [
      "epoch train: 31/400: 100%|████████████████████| 49666/49666 [01:10<00:00, 706.46it/s, loss=0.000092]\n"
     ]
    },
    {
     "name": "stdout",
     "output_type": "stream",
     "text": [
      "eval PSNR: 45.33\n"
     ]
    },
    {
     "name": "stderr",
     "output_type": "stream",
     "text": [
      "epoch train: 32/400: 100%|████████████████████| 49666/49666 [01:10<00:00, 703.39it/s, loss=0.000092]\n"
     ]
    },
    {
     "name": "stdout",
     "output_type": "stream",
     "text": [
      "eval PSNR: 44.30\n"
     ]
    },
    {
     "name": "stderr",
     "output_type": "stream",
     "text": [
      "epoch train: 33/400: 100%|████████████████████| 49666/49666 [01:10<00:00, 702.09it/s, loss=0.000091]\n"
     ]
    },
    {
     "name": "stdout",
     "output_type": "stream",
     "text": [
      "eval PSNR: 44.99\n"
     ]
    },
    {
     "name": "stderr",
     "output_type": "stream",
     "text": [
      "epoch train: 34/400: 100%|████████████████████| 49666/49666 [01:10<00:00, 700.46it/s, loss=0.000091]\n"
     ]
    },
    {
     "name": "stdout",
     "output_type": "stream",
     "text": [
      "eval PSNR: 43.98\n"
     ]
    },
    {
     "name": "stderr",
     "output_type": "stream",
     "text": [
      "epoch train: 35/400: 100%|████████████████████| 49666/49666 [01:11<00:00, 697.11it/s, loss=0.000090]\n"
     ]
    },
    {
     "name": "stdout",
     "output_type": "stream",
     "text": [
      "eval PSNR: 39.65\n"
     ]
    },
    {
     "name": "stderr",
     "output_type": "stream",
     "text": [
      "epoch train: 36/400: 100%|████████████████████| 49666/49666 [01:10<00:00, 700.44it/s, loss=0.000090]\n"
     ]
    },
    {
     "name": "stdout",
     "output_type": "stream",
     "text": [
      "eval PSNR: 44.67\n"
     ]
    },
    {
     "name": "stderr",
     "output_type": "stream",
     "text": [
      "epoch train: 37/400: 100%|████████████████████| 49666/49666 [01:11<00:00, 697.79it/s, loss=0.000089]\n"
     ]
    },
    {
     "name": "stdout",
     "output_type": "stream",
     "text": [
      "eval PSNR: 45.25\n"
     ]
    },
    {
     "name": "stderr",
     "output_type": "stream",
     "text": [
      "epoch train: 38/400: 100%|████████████████████| 49666/49666 [01:11<00:00, 696.19it/s, loss=0.000089]\n"
     ]
    },
    {
     "name": "stdout",
     "output_type": "stream",
     "text": [
      "eval PSNR: 43.91\n"
     ]
    },
    {
     "name": "stderr",
     "output_type": "stream",
     "text": [
      "epoch train: 39/400: 100%|████████████████████| 49666/49666 [01:11<00:00, 695.43it/s, loss=0.000089]\n"
     ]
    },
    {
     "name": "stdout",
     "output_type": "stream",
     "text": [
      "eval PSNR: 45.17\n"
     ]
    },
    {
     "name": "stderr",
     "output_type": "stream",
     "text": [
      "epoch train: 40/400: 100%|████████████████████| 49666/49666 [01:13<00:00, 677.37it/s, loss=0.000088]\n"
     ]
    },
    {
     "name": "stdout",
     "output_type": "stream",
     "text": [
      "eval PSNR: 44.91\n"
     ]
    },
    {
     "name": "stderr",
     "output_type": "stream",
     "text": [
      "epoch train: 41/400: 100%|████████████████████| 49666/49666 [01:11<00:00, 699.44it/s, loss=0.000088]\n"
     ]
    },
    {
     "name": "stdout",
     "output_type": "stream",
     "text": [
      "eval PSNR: 42.84\n"
     ]
    },
    {
     "name": "stderr",
     "output_type": "stream",
     "text": [
      "epoch train: 42/400: 100%|████████████████████| 49666/49666 [01:08<00:00, 726.68it/s, loss=0.000088]\n"
     ]
    },
    {
     "name": "stdout",
     "output_type": "stream",
     "text": [
      "eval PSNR: 45.23\n"
     ]
    },
    {
     "name": "stderr",
     "output_type": "stream",
     "text": [
      "epoch train: 43/400: 100%|████████████████████| 49666/49666 [01:09<00:00, 717.54it/s, loss=0.000087]\n"
     ]
    },
    {
     "name": "stdout",
     "output_type": "stream",
     "text": [
      "eval PSNR: 45.41\n"
     ]
    },
    {
     "name": "stderr",
     "output_type": "stream",
     "text": [
      "epoch train: 44/400: 100%|████████████████████| 49666/49666 [01:09<00:00, 718.61it/s, loss=0.000087]\n"
     ]
    },
    {
     "name": "stdout",
     "output_type": "stream",
     "text": [
      "eval PSNR: 44.97\n"
     ]
    },
    {
     "name": "stderr",
     "output_type": "stream",
     "text": [
      "epoch train: 45/400: 100%|████████████████████| 49666/49666 [01:08<00:00, 721.06it/s, loss=0.000087]\n"
     ]
    },
    {
     "name": "stdout",
     "output_type": "stream",
     "text": [
      "eval PSNR: 45.51\n"
     ]
    },
    {
     "name": "stderr",
     "output_type": "stream",
     "text": [
      "epoch train: 46/400: 100%|████████████████████| 49666/49666 [01:09<00:00, 717.85it/s, loss=0.000086]\n"
     ]
    },
    {
     "name": "stdout",
     "output_type": "stream",
     "text": [
      "eval PSNR: 44.84\n"
     ]
    },
    {
     "name": "stderr",
     "output_type": "stream",
     "text": [
      "epoch train: 47/400: 100%|████████████████████| 49666/49666 [01:09<00:00, 716.66it/s, loss=0.000086]\n"
     ]
    },
    {
     "name": "stdout",
     "output_type": "stream",
     "text": [
      "eval PSNR: 45.05\n"
     ]
    },
    {
     "name": "stderr",
     "output_type": "stream",
     "text": [
      "epoch train: 48/400: 100%|████████████████████| 49666/49666 [01:07<00:00, 736.33it/s, loss=0.000086]\n"
     ]
    },
    {
     "name": "stdout",
     "output_type": "stream",
     "text": [
      "eval PSNR: 45.52\n"
     ]
    },
    {
     "name": "stderr",
     "output_type": "stream",
     "text": [
      "epoch train: 49/400: 100%|████████████████████| 49666/49666 [01:09<00:00, 715.49it/s, loss=0.000086]\n"
     ]
    },
    {
     "name": "stdout",
     "output_type": "stream",
     "text": [
      "eval PSNR: 43.86\n"
     ]
    },
    {
     "name": "stderr",
     "output_type": "stream",
     "text": [
      "epoch train: 50/400: 100%|████████████████████| 49666/49666 [01:42<00:00, 483.19it/s, loss=0.000085]\n"
     ]
    },
    {
     "name": "stdout",
     "output_type": "stream",
     "text": [
      "eval PSNR: 45.42\n"
     ]
    },
    {
     "name": "stderr",
     "output_type": "stream",
     "text": [
      "epoch train: 51/400: 100%|████████████████████| 49666/49666 [01:09<00:00, 719.73it/s, loss=0.000086]\n"
     ]
    },
    {
     "name": "stdout",
     "output_type": "stream",
     "text": [
      "eval PSNR: 44.91\n"
     ]
    },
    {
     "name": "stderr",
     "output_type": "stream",
     "text": [
      "epoch train: 52/400: 100%|████████████████████| 49666/49666 [01:08<00:00, 721.58it/s, loss=0.000085]\n"
     ]
    },
    {
     "name": "stdout",
     "output_type": "stream",
     "text": [
      "eval PSNR: 45.23\n"
     ]
    },
    {
     "name": "stderr",
     "output_type": "stream",
     "text": [
      "epoch train: 53/400: 100%|████████████████████| 49666/49666 [01:08<00:00, 720.41it/s, loss=0.000085]\n"
     ]
    },
    {
     "name": "stdout",
     "output_type": "stream",
     "text": [
      "eval PSNR: 45.47\n"
     ]
    },
    {
     "name": "stderr",
     "output_type": "stream",
     "text": [
      "epoch train: 54/400: 100%|████████████████████| 49666/49666 [01:08<00:00, 724.66it/s, loss=0.000085]\n"
     ]
    },
    {
     "name": "stdout",
     "output_type": "stream",
     "text": [
      "eval PSNR: 44.82\n"
     ]
    },
    {
     "name": "stderr",
     "output_type": "stream",
     "text": [
      "epoch train: 55/400: 100%|████████████████████| 49666/49666 [01:08<00:00, 722.01it/s, loss=0.000084]\n"
     ]
    },
    {
     "name": "stdout",
     "output_type": "stream",
     "text": [
      "eval PSNR: 44.90\n"
     ]
    },
    {
     "name": "stderr",
     "output_type": "stream",
     "text": [
      "epoch train: 56/400: 100%|████████████████████| 49666/49666 [01:09<00:00, 717.98it/s, loss=0.000084]\n"
     ]
    },
    {
     "name": "stdout",
     "output_type": "stream",
     "text": [
      "eval PSNR: 45.46\n"
     ]
    },
    {
     "name": "stderr",
     "output_type": "stream",
     "text": [
      "epoch train: 57/400: 100%|████████████████████| 49666/49666 [01:09<00:00, 716.89it/s, loss=0.000084]\n"
     ]
    },
    {
     "name": "stdout",
     "output_type": "stream",
     "text": [
      "eval PSNR: 45.34\n"
     ]
    },
    {
     "name": "stderr",
     "output_type": "stream",
     "text": [
      "epoch train: 58/400: 100%|████████████████████| 49666/49666 [01:09<00:00, 716.19it/s, loss=0.000084]\n"
     ]
    },
    {
     "name": "stdout",
     "output_type": "stream",
     "text": [
      "eval PSNR: 45.61\n"
     ]
    },
    {
     "name": "stderr",
     "output_type": "stream",
     "text": [
      "epoch train: 59/400: 100%|████████████████████| 49666/49666 [01:09<00:00, 719.20it/s, loss=0.000083]\n"
     ]
    },
    {
     "name": "stdout",
     "output_type": "stream",
     "text": [
      "eval PSNR: 45.61\n"
     ]
    },
    {
     "name": "stderr",
     "output_type": "stream",
     "text": [
      "epoch train: 60/400: 100%|████████████████████| 49666/49666 [01:09<00:00, 715.43it/s, loss=0.000083]\n"
     ]
    },
    {
     "name": "stdout",
     "output_type": "stream",
     "text": [
      "eval PSNR: 45.66\n"
     ]
    },
    {
     "name": "stderr",
     "output_type": "stream",
     "text": [
      "epoch train: 61/400: 100%|████████████████████| 49666/49666 [01:09<00:00, 716.57it/s, loss=0.000083]\n"
     ]
    },
    {
     "name": "stdout",
     "output_type": "stream",
     "text": [
      "eval PSNR: 45.53\n"
     ]
    },
    {
     "name": "stderr",
     "output_type": "stream",
     "text": [
      "epoch train: 62/400: 100%|████████████████████| 49666/49666 [01:09<00:00, 709.97it/s, loss=0.000083]\n"
     ]
    },
    {
     "name": "stdout",
     "output_type": "stream",
     "text": [
      "eval PSNR: 45.54\n"
     ]
    },
    {
     "name": "stderr",
     "output_type": "stream",
     "text": [
      "epoch train: 63/400: 100%|████████████████████| 49666/49666 [01:10<00:00, 709.06it/s, loss=0.000083]\n"
     ]
    },
    {
     "name": "stdout",
     "output_type": "stream",
     "text": [
      "eval PSNR: 44.30\n"
     ]
    },
    {
     "name": "stderr",
     "output_type": "stream",
     "text": [
      "epoch train: 64/400: 100%|████████████████████| 49666/49666 [01:10<00:00, 707.58it/s, loss=0.000082]\n"
     ]
    },
    {
     "name": "stdout",
     "output_type": "stream",
     "text": [
      "eval PSNR: 44.70\n"
     ]
    },
    {
     "name": "stderr",
     "output_type": "stream",
     "text": [
      "epoch train: 65/400: 100%|████████████████████| 49666/49666 [01:10<00:00, 706.91it/s, loss=0.000082]\n"
     ]
    },
    {
     "name": "stdout",
     "output_type": "stream",
     "text": [
      "eval PSNR: 44.97\n"
     ]
    },
    {
     "name": "stderr",
     "output_type": "stream",
     "text": [
      "epoch train: 66/400: 100%|████████████████████| 49666/49666 [01:10<00:00, 709.46it/s, loss=0.000082]\n"
     ]
    },
    {
     "name": "stdout",
     "output_type": "stream",
     "text": [
      "eval PSNR: 43.95\n"
     ]
    },
    {
     "name": "stderr",
     "output_type": "stream",
     "text": [
      "epoch train: 67/400: 100%|████████████████████| 49666/49666 [01:09<00:00, 718.38it/s, loss=0.000082]\n"
     ]
    },
    {
     "name": "stdout",
     "output_type": "stream",
     "text": [
      "eval PSNR: 45.62\n"
     ]
    },
    {
     "name": "stderr",
     "output_type": "stream",
     "text": [
      "epoch train: 68/400: 100%|████████████████████| 49666/49666 [01:09<00:00, 712.96it/s, loss=0.000081]\n"
     ]
    },
    {
     "name": "stdout",
     "output_type": "stream",
     "text": [
      "eval PSNR: 45.54\n"
     ]
    },
    {
     "name": "stderr",
     "output_type": "stream",
     "text": [
      "epoch train: 69/400: 100%|████████████████████| 49666/49666 [01:09<00:00, 713.31it/s, loss=0.000081]\n"
     ]
    },
    {
     "name": "stdout",
     "output_type": "stream",
     "text": [
      "eval PSNR: 45.67\n"
     ]
    },
    {
     "name": "stderr",
     "output_type": "stream",
     "text": [
      "epoch train: 70/400: 100%|████████████████████| 49666/49666 [01:09<00:00, 713.82it/s, loss=0.000081]\n"
     ]
    },
    {
     "name": "stdout",
     "output_type": "stream",
     "text": [
      "eval PSNR: 45.71\n"
     ]
    },
    {
     "name": "stderr",
     "output_type": "stream",
     "text": [
      "epoch train: 71/400: 100%|████████████████████| 49666/49666 [01:09<00:00, 714.29it/s, loss=0.000081]\n"
     ]
    },
    {
     "name": "stdout",
     "output_type": "stream",
     "text": [
      "eval PSNR: 44.65\n"
     ]
    },
    {
     "name": "stderr",
     "output_type": "stream",
     "text": [
      "epoch train: 72/400: 100%|████████████████████| 49666/49666 [01:09<00:00, 715.03it/s, loss=0.000081]\n"
     ]
    },
    {
     "name": "stdout",
     "output_type": "stream",
     "text": [
      "eval PSNR: 45.20\n"
     ]
    },
    {
     "name": "stderr",
     "output_type": "stream",
     "text": [
      "epoch train: 73/400: 100%|████████████████████| 49666/49666 [01:09<00:00, 714.64it/s, loss=0.000081]\n"
     ]
    },
    {
     "name": "stdout",
     "output_type": "stream",
     "text": [
      "eval PSNR: 45.56\n"
     ]
    },
    {
     "name": "stderr",
     "output_type": "stream",
     "text": [
      "epoch train: 74/400: 100%|████████████████████| 49666/49666 [01:09<00:00, 714.25it/s, loss=0.000080]\n"
     ]
    },
    {
     "name": "stdout",
     "output_type": "stream",
     "text": [
      "eval PSNR: 45.68\n"
     ]
    },
    {
     "name": "stderr",
     "output_type": "stream",
     "text": [
      "epoch train: 75/400: 100%|████████████████████| 49666/49666 [01:09<00:00, 713.72it/s, loss=0.000080]\n"
     ]
    },
    {
     "name": "stdout",
     "output_type": "stream",
     "text": [
      "eval PSNR: 45.79\n"
     ]
    },
    {
     "name": "stderr",
     "output_type": "stream",
     "text": [
      "epoch train: 76/400: 100%|████████████████████| 49666/49666 [01:09<00:00, 714.29it/s, loss=0.000080]\n"
     ]
    },
    {
     "name": "stdout",
     "output_type": "stream",
     "text": [
      "eval PSNR: 45.65\n"
     ]
    },
    {
     "name": "stderr",
     "output_type": "stream",
     "text": [
      "epoch train: 77/400: 100%|████████████████████| 49666/49666 [01:08<00:00, 720.06it/s, loss=0.000080]\n"
     ]
    },
    {
     "name": "stdout",
     "output_type": "stream",
     "text": [
      "eval PSNR: 45.77\n"
     ]
    },
    {
     "name": "stderr",
     "output_type": "stream",
     "text": [
      "epoch train: 78/400: 100%|████████████████████| 49666/49666 [01:09<00:00, 714.09it/s, loss=0.000079]\n"
     ]
    },
    {
     "name": "stdout",
     "output_type": "stream",
     "text": [
      "eval PSNR: 45.60\n"
     ]
    },
    {
     "name": "stderr",
     "output_type": "stream",
     "text": [
      "epoch train: 79/400: 100%|████████████████████| 49666/49666 [01:09<00:00, 714.52it/s, loss=0.000079]\n"
     ]
    },
    {
     "name": "stdout",
     "output_type": "stream",
     "text": [
      "eval PSNR: 45.81\n"
     ]
    },
    {
     "name": "stderr",
     "output_type": "stream",
     "text": [
      "epoch train: 80/400: 100%|████████████████████| 49666/49666 [01:09<00:00, 715.24it/s, loss=0.000079]\n"
     ]
    },
    {
     "name": "stdout",
     "output_type": "stream",
     "text": [
      "eval PSNR: 45.65\n"
     ]
    },
    {
     "name": "stderr",
     "output_type": "stream",
     "text": [
      "epoch train: 81/400: 100%|████████████████████| 49666/49666 [01:09<00:00, 715.38it/s, loss=0.000079]\n"
     ]
    },
    {
     "name": "stdout",
     "output_type": "stream",
     "text": [
      "eval PSNR: 45.48\n"
     ]
    },
    {
     "name": "stderr",
     "output_type": "stream",
     "text": [
      "epoch train: 82/400: 100%|████████████████████| 49666/49666 [01:09<00:00, 716.13it/s, loss=0.000079]\n"
     ]
    },
    {
     "name": "stdout",
     "output_type": "stream",
     "text": [
      "eval PSNR: 45.58\n"
     ]
    },
    {
     "name": "stderr",
     "output_type": "stream",
     "text": [
      "epoch train: 83/400: 100%|████████████████████| 49666/49666 [01:09<00:00, 714.57it/s, loss=0.000079]\n"
     ]
    },
    {
     "name": "stdout",
     "output_type": "stream",
     "text": [
      "eval PSNR: 45.73\n"
     ]
    },
    {
     "name": "stderr",
     "output_type": "stream",
     "text": [
      "epoch train: 84/400: 100%|████████████████████| 49666/49666 [01:09<00:00, 714.27it/s, loss=0.000078]\n"
     ]
    },
    {
     "name": "stdout",
     "output_type": "stream",
     "text": [
      "eval PSNR: 45.71\n"
     ]
    },
    {
     "name": "stderr",
     "output_type": "stream",
     "text": [
      "epoch train: 85/400: 100%|████████████████████| 49666/49666 [01:09<00:00, 712.88it/s, loss=0.000078]\n"
     ]
    },
    {
     "name": "stdout",
     "output_type": "stream",
     "text": [
      "eval PSNR: 45.73\n"
     ]
    },
    {
     "name": "stderr",
     "output_type": "stream",
     "text": [
      "epoch train: 86/400: 100%|████████████████████| 49666/49666 [01:09<00:00, 713.08it/s, loss=0.000078]\n"
     ]
    },
    {
     "name": "stdout",
     "output_type": "stream",
     "text": [
      "eval PSNR: 45.67\n"
     ]
    },
    {
     "name": "stderr",
     "output_type": "stream",
     "text": [
      "epoch train: 87/400: 100%|████████████████████| 49666/49666 [01:09<00:00, 713.77it/s, loss=0.000078]\n"
     ]
    },
    {
     "name": "stdout",
     "output_type": "stream",
     "text": [
      "eval PSNR: 45.80\n"
     ]
    },
    {
     "name": "stderr",
     "output_type": "stream",
     "text": [
      "epoch train: 88/400: 100%|████████████████████| 49666/49666 [01:09<00:00, 715.55it/s, loss=0.000078]\n"
     ]
    },
    {
     "name": "stdout",
     "output_type": "stream",
     "text": [
      "eval PSNR: 45.81\n"
     ]
    },
    {
     "name": "stderr",
     "output_type": "stream",
     "text": [
      "epoch train: 89/400: 100%|████████████████████| 49666/49666 [01:09<00:00, 714.58it/s, loss=0.000077]\n"
     ]
    },
    {
     "name": "stdout",
     "output_type": "stream",
     "text": [
      "eval PSNR: 45.83\n"
     ]
    },
    {
     "name": "stderr",
     "output_type": "stream",
     "text": [
      "epoch train: 90/400: 100%|████████████████████| 49666/49666 [01:09<00:00, 713.90it/s, loss=0.000077]\n"
     ]
    },
    {
     "name": "stdout",
     "output_type": "stream",
     "text": [
      "eval PSNR: 45.88\n"
     ]
    },
    {
     "name": "stderr",
     "output_type": "stream",
     "text": [
      "epoch train: 91/400: 100%|████████████████████| 49666/49666 [01:09<00:00, 714.22it/s, loss=0.000077]\n"
     ]
    },
    {
     "name": "stdout",
     "output_type": "stream",
     "text": [
      "eval PSNR: 45.26\n"
     ]
    },
    {
     "name": "stderr",
     "output_type": "stream",
     "text": [
      "epoch train: 92/400: 100%|████████████████████| 49666/49666 [01:09<00:00, 713.80it/s, loss=0.000077]\n"
     ]
    },
    {
     "name": "stdout",
     "output_type": "stream",
     "text": [
      "eval PSNR: 45.82\n"
     ]
    },
    {
     "name": "stderr",
     "output_type": "stream",
     "text": [
      "epoch train: 93/400: 100%|████████████████████| 49666/49666 [01:09<00:00, 713.94it/s, loss=0.000077]\n"
     ]
    },
    {
     "name": "stdout",
     "output_type": "stream",
     "text": [
      "eval PSNR: 45.81\n"
     ]
    },
    {
     "name": "stderr",
     "output_type": "stream",
     "text": [
      "epoch train: 94/400: 100%|████████████████████| 49666/49666 [01:09<00:00, 714.28it/s, loss=0.000076]\n"
     ]
    },
    {
     "name": "stdout",
     "output_type": "stream",
     "text": [
      "eval PSNR: 43.74\n"
     ]
    },
    {
     "name": "stderr",
     "output_type": "stream",
     "text": [
      "epoch train: 95/400: 100%|████████████████████| 49666/49666 [01:09<00:00, 713.85it/s, loss=0.000076]\n"
     ]
    },
    {
     "name": "stdout",
     "output_type": "stream",
     "text": [
      "eval PSNR: 45.73\n"
     ]
    },
    {
     "name": "stderr",
     "output_type": "stream",
     "text": [
      "epoch train: 96/400: 100%|████████████████████| 49666/49666 [01:09<00:00, 716.69it/s, loss=0.000076]\n"
     ]
    },
    {
     "name": "stdout",
     "output_type": "stream",
     "text": [
      "eval PSNR: 43.25\n"
     ]
    },
    {
     "name": "stderr",
     "output_type": "stream",
     "text": [
      "epoch train: 97/400: 100%|████████████████████| 49666/49666 [01:09<00:00, 713.02it/s, loss=0.000076]\n"
     ]
    },
    {
     "name": "stdout",
     "output_type": "stream",
     "text": [
      "eval PSNR: 44.67\n"
     ]
    },
    {
     "name": "stderr",
     "output_type": "stream",
     "text": [
      "epoch train: 98/400: 100%|████████████████████| 49666/49666 [01:09<00:00, 717.37it/s, loss=0.000076]\n"
     ]
    },
    {
     "name": "stdout",
     "output_type": "stream",
     "text": [
      "eval PSNR: 45.80\n"
     ]
    },
    {
     "name": "stderr",
     "output_type": "stream",
     "text": [
      "epoch train: 99/400: 100%|████████████████████| 49666/49666 [01:09<00:00, 714.03it/s, loss=0.000076]\n"
     ]
    },
    {
     "name": "stdout",
     "output_type": "stream",
     "text": [
      "eval PSNR: 45.81\n"
     ]
    },
    {
     "name": "stderr",
     "output_type": "stream",
     "text": [
      "epoch train: 100/400: 100%|███████████████████| 49666/49666 [01:09<00:00, 715.50it/s, loss=0.000075]\n"
     ]
    },
    {
     "name": "stdout",
     "output_type": "stream",
     "text": [
      "eval PSNR: 45.72\n"
     ]
    },
    {
     "name": "stderr",
     "output_type": "stream",
     "text": [
      "epoch train: 101/400: 100%|███████████████████| 49666/49666 [01:09<00:00, 715.82it/s, loss=0.000075]\n"
     ]
    },
    {
     "name": "stdout",
     "output_type": "stream",
     "text": [
      "eval PSNR: 45.53\n"
     ]
    },
    {
     "name": "stderr",
     "output_type": "stream",
     "text": [
      "epoch train: 102/400: 100%|███████████████████| 49666/49666 [01:09<00:00, 718.41it/s, loss=0.000075]\n"
     ]
    },
    {
     "name": "stdout",
     "output_type": "stream",
     "text": [
      "eval PSNR: 45.79\n"
     ]
    },
    {
     "name": "stderr",
     "output_type": "stream",
     "text": [
      "epoch train: 103/400: 100%|███████████████████| 49666/49666 [01:09<00:00, 713.80it/s, loss=0.000075]\n"
     ]
    },
    {
     "name": "stdout",
     "output_type": "stream",
     "text": [
      "eval PSNR: 45.54\n"
     ]
    },
    {
     "name": "stderr",
     "output_type": "stream",
     "text": [
      "epoch train: 104/400: 100%|███████████████████| 49666/49666 [01:09<00:00, 714.23it/s, loss=0.000075]\n"
     ]
    },
    {
     "name": "stdout",
     "output_type": "stream",
     "text": [
      "eval PSNR: 45.83\n"
     ]
    },
    {
     "name": "stderr",
     "output_type": "stream",
     "text": [
      "epoch train: 105/400: 100%|███████████████████| 49666/49666 [01:09<00:00, 714.91it/s, loss=0.000075]\n"
     ]
    },
    {
     "name": "stdout",
     "output_type": "stream",
     "text": [
      "eval PSNR: 45.65\n"
     ]
    },
    {
     "name": "stderr",
     "output_type": "stream",
     "text": [
      "epoch train: 106/400: 100%|███████████████████| 49666/49666 [01:09<00:00, 718.97it/s, loss=0.000074]\n"
     ]
    },
    {
     "name": "stdout",
     "output_type": "stream",
     "text": [
      "eval PSNR: 44.35\n"
     ]
    },
    {
     "name": "stderr",
     "output_type": "stream",
     "text": [
      "epoch train: 107/400: 100%|███████████████████| 49666/49666 [01:09<00:00, 714.27it/s, loss=0.000074]\n"
     ]
    },
    {
     "name": "stdout",
     "output_type": "stream",
     "text": [
      "eval PSNR: 45.81\n"
     ]
    },
    {
     "name": "stderr",
     "output_type": "stream",
     "text": [
      "epoch train: 108/400: 100%|███████████████████| 49666/49666 [01:09<00:00, 718.16it/s, loss=0.000074]\n"
     ]
    },
    {
     "name": "stdout",
     "output_type": "stream",
     "text": [
      "eval PSNR: 45.61\n"
     ]
    },
    {
     "name": "stderr",
     "output_type": "stream",
     "text": [
      "epoch train: 109/400: 100%|███████████████████| 49666/49666 [01:09<00:00, 712.56it/s, loss=0.000074]\n"
     ]
    },
    {
     "name": "stdout",
     "output_type": "stream",
     "text": [
      "eval PSNR: 45.84\n"
     ]
    },
    {
     "name": "stderr",
     "output_type": "stream",
     "text": [
      "epoch train: 110/400: 100%|███████████████████| 49666/49666 [01:09<00:00, 713.01it/s, loss=0.000074]\n"
     ]
    },
    {
     "name": "stdout",
     "output_type": "stream",
     "text": [
      "eval PSNR: 45.88\n"
     ]
    },
    {
     "name": "stderr",
     "output_type": "stream",
     "text": [
      "epoch train: 111/400: 100%|███████████████████| 49666/49666 [01:09<00:00, 713.52it/s, loss=0.000074]\n"
     ]
    },
    {
     "name": "stdout",
     "output_type": "stream",
     "text": [
      "eval PSNR: 45.45\n"
     ]
    },
    {
     "name": "stderr",
     "output_type": "stream",
     "text": [
      "epoch train: 112/400: 100%|███████████████████| 49666/49666 [01:09<00:00, 713.16it/s, loss=0.000074]\n"
     ]
    },
    {
     "name": "stdout",
     "output_type": "stream",
     "text": [
      "eval PSNR: 45.91\n"
     ]
    },
    {
     "name": "stderr",
     "output_type": "stream",
     "text": [
      "epoch train: 113/400: 100%|███████████████████| 49666/49666 [01:09<00:00, 713.11it/s, loss=0.000073]\n"
     ]
    },
    {
     "name": "stdout",
     "output_type": "stream",
     "text": [
      "eval PSNR: 45.28\n"
     ]
    },
    {
     "name": "stderr",
     "output_type": "stream",
     "text": [
      "epoch train: 114/400: 100%|███████████████████| 49666/49666 [01:09<00:00, 712.52it/s, loss=0.000073]\n"
     ]
    },
    {
     "name": "stdout",
     "output_type": "stream",
     "text": [
      "eval PSNR: 45.06\n"
     ]
    },
    {
     "name": "stderr",
     "output_type": "stream",
     "text": [
      "epoch train: 115/400: 100%|███████████████████| 49666/49666 [01:09<00:00, 715.94it/s, loss=0.000073]\n"
     ]
    },
    {
     "name": "stdout",
     "output_type": "stream",
     "text": [
      "eval PSNR: 45.40\n"
     ]
    },
    {
     "name": "stderr",
     "output_type": "stream",
     "text": [
      "epoch train: 116/400: 100%|███████████████████| 49666/49666 [01:09<00:00, 712.99it/s, loss=0.000073]\n"
     ]
    },
    {
     "name": "stdout",
     "output_type": "stream",
     "text": [
      "eval PSNR: 45.97\n"
     ]
    },
    {
     "name": "stderr",
     "output_type": "stream",
     "text": [
      "epoch train: 117/400: 100%|███████████████████| 49666/49666 [01:09<00:00, 711.99it/s, loss=0.000073]\n"
     ]
    },
    {
     "name": "stdout",
     "output_type": "stream",
     "text": [
      "eval PSNR: 43.28\n"
     ]
    },
    {
     "name": "stderr",
     "output_type": "stream",
     "text": [
      "epoch train: 118/400: 100%|███████████████████| 49666/49666 [01:09<00:00, 715.11it/s, loss=0.000073]\n"
     ]
    },
    {
     "name": "stdout",
     "output_type": "stream",
     "text": [
      "eval PSNR: 42.99\n"
     ]
    },
    {
     "name": "stderr",
     "output_type": "stream",
     "text": [
      "epoch train: 119/400: 100%|███████████████████| 49666/49666 [01:09<00:00, 711.99it/s, loss=0.000073]\n"
     ]
    },
    {
     "name": "stdout",
     "output_type": "stream",
     "text": [
      "eval PSNR: 45.37\n"
     ]
    },
    {
     "name": "stderr",
     "output_type": "stream",
     "text": [
      "epoch train: 120/400: 100%|███████████████████| 49666/49666 [01:09<00:00, 712.01it/s, loss=0.000073]\n"
     ]
    },
    {
     "name": "stdout",
     "output_type": "stream",
     "text": [
      "eval PSNR: 45.86\n"
     ]
    },
    {
     "name": "stderr",
     "output_type": "stream",
     "text": [
      "epoch train: 121/400: 100%|███████████████████| 49666/49666 [01:09<00:00, 712.45it/s, loss=0.000072]\n"
     ]
    },
    {
     "name": "stdout",
     "output_type": "stream",
     "text": [
      "eval PSNR: 45.81\n"
     ]
    },
    {
     "name": "stderr",
     "output_type": "stream",
     "text": [
      "epoch train: 122/400: 100%|███████████████████| 49666/49666 [01:09<00:00, 713.00it/s, loss=0.000072]\n"
     ]
    },
    {
     "name": "stdout",
     "output_type": "stream",
     "text": [
      "eval PSNR: 46.02\n"
     ]
    },
    {
     "name": "stderr",
     "output_type": "stream",
     "text": [
      "epoch train: 123/400: 100%|███████████████████| 49666/49666 [01:09<00:00, 713.45it/s, loss=0.000072]\n"
     ]
    },
    {
     "name": "stdout",
     "output_type": "stream",
     "text": [
      "eval PSNR: 45.93\n"
     ]
    },
    {
     "name": "stderr",
     "output_type": "stream",
     "text": [
      "epoch train: 124/400: 100%|███████████████████| 49666/49666 [01:09<00:00, 713.10it/s, loss=0.000072]\n"
     ]
    },
    {
     "name": "stdout",
     "output_type": "stream",
     "text": [
      "eval PSNR: 45.51\n"
     ]
    },
    {
     "name": "stderr",
     "output_type": "stream",
     "text": [
      "epoch train: 125/400: 100%|███████████████████| 49666/49666 [01:09<00:00, 713.53it/s, loss=0.000072]\n"
     ]
    },
    {
     "name": "stdout",
     "output_type": "stream",
     "text": [
      "eval PSNR: 45.82\n"
     ]
    },
    {
     "name": "stderr",
     "output_type": "stream",
     "text": [
      "epoch train: 126/400: 100%|███████████████████| 49666/49666 [01:09<00:00, 716.38it/s, loss=0.000072]\n"
     ]
    },
    {
     "name": "stdout",
     "output_type": "stream",
     "text": [
      "eval PSNR: 45.88\n"
     ]
    },
    {
     "name": "stderr",
     "output_type": "stream",
     "text": [
      "epoch train: 127/400: 100%|███████████████████| 49666/49666 [01:09<00:00, 712.95it/s, loss=0.000072]\n"
     ]
    },
    {
     "name": "stdout",
     "output_type": "stream",
     "text": [
      "eval PSNR: 45.66\n"
     ]
    },
    {
     "name": "stderr",
     "output_type": "stream",
     "text": [
      "epoch train: 128/400: 100%|███████████████████| 49666/49666 [01:09<00:00, 714.88it/s, loss=0.000072]\n"
     ]
    },
    {
     "name": "stdout",
     "output_type": "stream",
     "text": [
      "eval PSNR: 45.86\n"
     ]
    },
    {
     "name": "stderr",
     "output_type": "stream",
     "text": [
      "epoch train: 129/400: 100%|███████████████████| 49666/49666 [01:09<00:00, 716.93it/s, loss=0.000072]\n"
     ]
    },
    {
     "name": "stdout",
     "output_type": "stream",
     "text": [
      "eval PSNR: 45.28\n"
     ]
    },
    {
     "name": "stderr",
     "output_type": "stream",
     "text": [
      "epoch train: 130/400: 100%|███████████████████| 49666/49666 [01:09<00:00, 712.39it/s, loss=0.000072]\n"
     ]
    },
    {
     "name": "stdout",
     "output_type": "stream",
     "text": [
      "eval PSNR: 45.77\n"
     ]
    },
    {
     "name": "stderr",
     "output_type": "stream",
     "text": [
      "epoch train: 131/400: 100%|███████████████████| 49666/49666 [01:09<00:00, 712.92it/s, loss=0.000071]\n"
     ]
    },
    {
     "name": "stdout",
     "output_type": "stream",
     "text": [
      "eval PSNR: 44.30\n"
     ]
    },
    {
     "name": "stderr",
     "output_type": "stream",
     "text": [
      "epoch train: 132/400: 100%|███████████████████| 49666/49666 [01:09<00:00, 718.90it/s, loss=0.000071]\n"
     ]
    },
    {
     "name": "stdout",
     "output_type": "stream",
     "text": [
      "eval PSNR: 45.77\n"
     ]
    },
    {
     "name": "stderr",
     "output_type": "stream",
     "text": [
      "epoch train: 133/400: 100%|███████████████████| 49666/49666 [01:09<00:00, 713.40it/s, loss=0.000071]\n"
     ]
    },
    {
     "name": "stdout",
     "output_type": "stream",
     "text": [
      "eval PSNR: 45.09\n"
     ]
    },
    {
     "name": "stderr",
     "output_type": "stream",
     "text": [
      "epoch train: 134/400: 100%|███████████████████| 49666/49666 [01:10<00:00, 708.03it/s, loss=0.000071]\n"
     ]
    },
    {
     "name": "stdout",
     "output_type": "stream",
     "text": [
      "eval PSNR: 45.65\n"
     ]
    },
    {
     "name": "stderr",
     "output_type": "stream",
     "text": [
      "epoch train: 135/400: 100%|███████████████████| 49666/49666 [01:09<00:00, 712.64it/s, loss=0.000071]\n"
     ]
    },
    {
     "name": "stdout",
     "output_type": "stream",
     "text": [
      "eval PSNR: 46.00\n"
     ]
    },
    {
     "name": "stderr",
     "output_type": "stream",
     "text": [
      "epoch train: 136/400: 100%|███████████████████| 49666/49666 [01:09<00:00, 713.13it/s, loss=0.000071]\n"
     ]
    },
    {
     "name": "stdout",
     "output_type": "stream",
     "text": [
      "eval PSNR: 45.83\n"
     ]
    },
    {
     "name": "stderr",
     "output_type": "stream",
     "text": [
      "epoch train: 137/400: 100%|███████████████████| 49666/49666 [01:09<00:00, 713.23it/s, loss=0.000071]\n"
     ]
    },
    {
     "name": "stdout",
     "output_type": "stream",
     "text": [
      "eval PSNR: 45.83\n"
     ]
    },
    {
     "name": "stderr",
     "output_type": "stream",
     "text": [
      "epoch train: 138/400: 100%|███████████████████| 49666/49666 [01:09<00:00, 716.09it/s, loss=0.000071]\n"
     ]
    },
    {
     "name": "stdout",
     "output_type": "stream",
     "text": [
      "eval PSNR: 46.02\n"
     ]
    },
    {
     "name": "stderr",
     "output_type": "stream",
     "text": [
      "epoch train: 139/400: 100%|███████████████████| 49666/49666 [01:09<00:00, 713.16it/s, loss=0.000071]\n"
     ]
    },
    {
     "name": "stdout",
     "output_type": "stream",
     "text": [
      "eval PSNR: 46.07\n"
     ]
    },
    {
     "name": "stderr",
     "output_type": "stream",
     "text": [
      "epoch train: 140/400: 100%|███████████████████| 49666/49666 [01:09<00:00, 713.60it/s, loss=0.000071]\n"
     ]
    },
    {
     "name": "stdout",
     "output_type": "stream",
     "text": [
      "eval PSNR: 45.53\n"
     ]
    },
    {
     "name": "stderr",
     "output_type": "stream",
     "text": [
      "epoch train: 141/400: 100%|███████████████████| 49666/49666 [01:09<00:00, 713.32it/s, loss=0.000070]\n"
     ]
    },
    {
     "name": "stdout",
     "output_type": "stream",
     "text": [
      "eval PSNR: 45.91\n"
     ]
    },
    {
     "name": "stderr",
     "output_type": "stream",
     "text": [
      "epoch train: 142/400: 100%|███████████████████| 49666/49666 [01:09<00:00, 713.62it/s, loss=0.000070]\n"
     ]
    },
    {
     "name": "stdout",
     "output_type": "stream",
     "text": [
      "eval PSNR: 45.88\n"
     ]
    },
    {
     "name": "stderr",
     "output_type": "stream",
     "text": [
      "epoch train: 143/400: 100%|███████████████████| 49666/49666 [01:09<00:00, 712.86it/s, loss=0.000070]\n"
     ]
    },
    {
     "name": "stdout",
     "output_type": "stream",
     "text": [
      "eval PSNR: 45.49\n"
     ]
    },
    {
     "name": "stderr",
     "output_type": "stream",
     "text": [
      "epoch train: 144/400: 100%|███████████████████| 49666/49666 [01:09<00:00, 712.68it/s, loss=0.000070]\n"
     ]
    },
    {
     "name": "stdout",
     "output_type": "stream",
     "text": [
      "eval PSNR: 45.19\n"
     ]
    },
    {
     "name": "stderr",
     "output_type": "stream",
     "text": [
      "epoch train: 145/400: 100%|███████████████████| 49666/49666 [01:09<00:00, 715.43it/s, loss=0.000070]\n"
     ]
    },
    {
     "name": "stdout",
     "output_type": "stream",
     "text": [
      "eval PSNR: 45.91\n"
     ]
    },
    {
     "name": "stderr",
     "output_type": "stream",
     "text": [
      "epoch train: 146/400: 100%|███████████████████| 49666/49666 [01:09<00:00, 713.40it/s, loss=0.000070]\n"
     ]
    },
    {
     "name": "stdout",
     "output_type": "stream",
     "text": [
      "eval PSNR: 45.87\n"
     ]
    },
    {
     "name": "stderr",
     "output_type": "stream",
     "text": [
      "epoch train: 147/400: 100%|███████████████████| 49666/49666 [01:09<00:00, 713.96it/s, loss=0.000070]\n"
     ]
    },
    {
     "name": "stdout",
     "output_type": "stream",
     "text": [
      "eval PSNR: 44.76\n"
     ]
    },
    {
     "name": "stderr",
     "output_type": "stream",
     "text": [
      "epoch train: 148/400: 100%|███████████████████| 49666/49666 [01:09<00:00, 715.36it/s, loss=0.000070]\n"
     ]
    },
    {
     "name": "stdout",
     "output_type": "stream",
     "text": [
      "eval PSNR: 46.06\n"
     ]
    },
    {
     "name": "stderr",
     "output_type": "stream",
     "text": [
      "epoch train: 149/400: 100%|███████████████████| 49666/49666 [01:09<00:00, 718.02it/s, loss=0.000070]\n"
     ]
    },
    {
     "name": "stdout",
     "output_type": "stream",
     "text": [
      "eval PSNR: 45.96\n"
     ]
    },
    {
     "name": "stderr",
     "output_type": "stream",
     "text": [
      "epoch train: 150/400: 100%|███████████████████| 49666/49666 [01:09<00:00, 716.53it/s, loss=0.000070]\n"
     ]
    },
    {
     "name": "stdout",
     "output_type": "stream",
     "text": [
      "eval PSNR: 45.86\n"
     ]
    },
    {
     "name": "stderr",
     "output_type": "stream",
     "text": [
      "epoch train: 151/400: 100%|███████████████████| 49666/49666 [01:09<00:00, 717.08it/s, loss=0.000070]\n"
     ]
    },
    {
     "name": "stdout",
     "output_type": "stream",
     "text": [
      "eval PSNR: 45.32\n"
     ]
    },
    {
     "name": "stderr",
     "output_type": "stream",
     "text": [
      "epoch train: 152/400: 100%|███████████████████| 49666/49666 [01:09<00:00, 716.97it/s, loss=0.000070]\n"
     ]
    },
    {
     "name": "stdout",
     "output_type": "stream",
     "text": [
      "eval PSNR: 45.25\n"
     ]
    },
    {
     "name": "stderr",
     "output_type": "stream",
     "text": [
      "epoch train: 153/400: 100%|███████████████████| 49666/49666 [01:09<00:00, 717.16it/s, loss=0.000069]\n"
     ]
    },
    {
     "name": "stdout",
     "output_type": "stream",
     "text": [
      "eval PSNR: 41.25\n"
     ]
    },
    {
     "name": "stderr",
     "output_type": "stream",
     "text": [
      "epoch train: 154/400: 100%|███████████████████| 49666/49666 [01:08<00:00, 721.05it/s, loss=0.000069]\n"
     ]
    },
    {
     "name": "stdout",
     "output_type": "stream",
     "text": [
      "eval PSNR: 45.75\n"
     ]
    },
    {
     "name": "stderr",
     "output_type": "stream",
     "text": [
      "epoch train: 155/400: 100%|███████████████████| 49666/49666 [01:09<00:00, 716.34it/s, loss=0.000069]\n"
     ]
    },
    {
     "name": "stdout",
     "output_type": "stream",
     "text": [
      "eval PSNR: 46.03\n"
     ]
    },
    {
     "name": "stderr",
     "output_type": "stream",
     "text": [
      "epoch train: 156/400: 100%|███████████████████| 49666/49666 [01:09<00:00, 716.23it/s, loss=0.000069]\n"
     ]
    },
    {
     "name": "stdout",
     "output_type": "stream",
     "text": [
      "eval PSNR: 45.87\n"
     ]
    },
    {
     "name": "stderr",
     "output_type": "stream",
     "text": [
      "epoch train: 157/400: 100%|███████████████████| 49666/49666 [01:09<00:00, 716.47it/s, loss=0.000069]\n"
     ]
    },
    {
     "name": "stdout",
     "output_type": "stream",
     "text": [
      "eval PSNR: 45.60\n"
     ]
    },
    {
     "name": "stderr",
     "output_type": "stream",
     "text": [
      "epoch train: 158/400: 100%|███████████████████| 49666/49666 [01:08<00:00, 722.09it/s, loss=0.000069]\n"
     ]
    },
    {
     "name": "stdout",
     "output_type": "stream",
     "text": [
      "eval PSNR: 46.06\n"
     ]
    },
    {
     "name": "stderr",
     "output_type": "stream",
     "text": [
      "epoch train: 159/400: 100%|███████████████████| 49666/49666 [01:09<00:00, 717.22it/s, loss=0.000069]\n"
     ]
    },
    {
     "name": "stdout",
     "output_type": "stream",
     "text": [
      "eval PSNR: 45.73\n"
     ]
    },
    {
     "name": "stderr",
     "output_type": "stream",
     "text": [
      "epoch train: 160/400: 100%|███████████████████| 49666/49666 [01:09<00:00, 717.01it/s, loss=0.000069]\n"
     ]
    },
    {
     "name": "stdout",
     "output_type": "stream",
     "text": [
      "eval PSNR: 45.96\n"
     ]
    },
    {
     "name": "stderr",
     "output_type": "stream",
     "text": [
      "epoch train: 161/400: 100%|███████████████████| 49666/49666 [01:09<00:00, 716.47it/s, loss=0.000069]\n"
     ]
    },
    {
     "name": "stdout",
     "output_type": "stream",
     "text": [
      "eval PSNR: 46.13\n"
     ]
    },
    {
     "name": "stderr",
     "output_type": "stream",
     "text": [
      "epoch train: 162/400: 100%|███████████████████| 49666/49666 [01:09<00:00, 715.93it/s, loss=0.000069]\n"
     ]
    },
    {
     "name": "stdout",
     "output_type": "stream",
     "text": [
      "eval PSNR: 46.02\n"
     ]
    },
    {
     "name": "stderr",
     "output_type": "stream",
     "text": [
      "epoch train: 163/400: 100%|███████████████████| 49666/49666 [01:09<00:00, 716.31it/s, loss=0.000069]\n"
     ]
    },
    {
     "name": "stdout",
     "output_type": "stream",
     "text": [
      "eval PSNR: 45.90\n"
     ]
    },
    {
     "name": "stderr",
     "output_type": "stream",
     "text": [
      "epoch train: 164/400: 100%|███████████████████| 49666/49666 [01:09<00:00, 716.51it/s, loss=0.000069]\n"
     ]
    },
    {
     "name": "stdout",
     "output_type": "stream",
     "text": [
      "eval PSNR: 45.92\n"
     ]
    },
    {
     "name": "stderr",
     "output_type": "stream",
     "text": [
      "epoch train: 165/400: 100%|███████████████████| 49666/49666 [01:09<00:00, 715.58it/s, loss=0.000069]\n"
     ]
    },
    {
     "name": "stdout",
     "output_type": "stream",
     "text": [
      "eval PSNR: 45.89\n"
     ]
    },
    {
     "name": "stderr",
     "output_type": "stream",
     "text": [
      "epoch train: 166/400: 100%|███████████████████| 49666/49666 [01:09<00:00, 714.87it/s, loss=0.000069]\n"
     ]
    },
    {
     "name": "stdout",
     "output_type": "stream",
     "text": [
      "eval PSNR: 46.11\n"
     ]
    },
    {
     "name": "stderr",
     "output_type": "stream",
     "text": [
      "epoch train: 167/400: 100%|███████████████████| 49666/49666 [01:09<00:00, 716.33it/s, loss=0.000068]\n"
     ]
    },
    {
     "name": "stdout",
     "output_type": "stream",
     "text": [
      "eval PSNR: 45.86\n"
     ]
    },
    {
     "name": "stderr",
     "output_type": "stream",
     "text": [
      "epoch train: 168/400: 100%|███████████████████| 49666/49666 [01:09<00:00, 716.89it/s, loss=0.000068]\n"
     ]
    },
    {
     "name": "stdout",
     "output_type": "stream",
     "text": [
      "eval PSNR: 45.86\n"
     ]
    },
    {
     "name": "stderr",
     "output_type": "stream",
     "text": [
      "epoch train: 169/400: 100%|███████████████████| 49666/49666 [01:09<00:00, 716.17it/s, loss=0.000068]\n"
     ]
    },
    {
     "name": "stdout",
     "output_type": "stream",
     "text": [
      "eval PSNR: 45.62\n"
     ]
    },
    {
     "name": "stderr",
     "output_type": "stream",
     "text": [
      "epoch train: 170/400: 100%|███████████████████| 49666/49666 [01:09<00:00, 716.26it/s, loss=0.000068]\n"
     ]
    },
    {
     "name": "stdout",
     "output_type": "stream",
     "text": [
      "eval PSNR: 45.30\n"
     ]
    },
    {
     "name": "stderr",
     "output_type": "stream",
     "text": [
      "epoch train: 171/400: 100%|███████████████████| 49666/49666 [01:09<00:00, 716.28it/s, loss=0.000068]\n"
     ]
    },
    {
     "name": "stdout",
     "output_type": "stream",
     "text": [
      "eval PSNR: 46.10\n"
     ]
    },
    {
     "name": "stderr",
     "output_type": "stream",
     "text": [
      "epoch train: 172/400: 100%|███████████████████| 49666/49666 [01:09<00:00, 716.15it/s, loss=0.000068]\n"
     ]
    },
    {
     "name": "stdout",
     "output_type": "stream",
     "text": [
      "eval PSNR: 45.72\n"
     ]
    },
    {
     "name": "stderr",
     "output_type": "stream",
     "text": [
      "epoch train: 173/400: 100%|███████████████████| 49666/49666 [01:09<00:00, 719.43it/s, loss=0.000068]\n"
     ]
    },
    {
     "name": "stdout",
     "output_type": "stream",
     "text": [
      "eval PSNR: 46.04\n"
     ]
    },
    {
     "name": "stderr",
     "output_type": "stream",
     "text": [
      "epoch train: 174/400: 100%|███████████████████| 49666/49666 [01:09<00:00, 715.51it/s, loss=0.000068]\n"
     ]
    },
    {
     "name": "stdout",
     "output_type": "stream",
     "text": [
      "eval PSNR: 45.97\n"
     ]
    },
    {
     "name": "stderr",
     "output_type": "stream",
     "text": [
      "epoch train: 175/400: 100%|███████████████████| 49666/49666 [01:09<00:00, 715.35it/s, loss=0.000068]\n"
     ]
    },
    {
     "name": "stdout",
     "output_type": "stream",
     "text": [
      "eval PSNR: 46.09\n"
     ]
    },
    {
     "name": "stderr",
     "output_type": "stream",
     "text": [
      "epoch train: 176/400: 100%|███████████████████| 49666/49666 [01:09<00:00, 716.15it/s, loss=0.000068]\n"
     ]
    },
    {
     "name": "stdout",
     "output_type": "stream",
     "text": [
      "eval PSNR: 46.13\n"
     ]
    },
    {
     "name": "stderr",
     "output_type": "stream",
     "text": [
      "epoch train: 177/400: 100%|███████████████████| 49666/49666 [01:09<00:00, 715.91it/s, loss=0.000068]\n"
     ]
    },
    {
     "name": "stdout",
     "output_type": "stream",
     "text": [
      "eval PSNR: 45.78\n"
     ]
    },
    {
     "name": "stderr",
     "output_type": "stream",
     "text": [
      "epoch train: 178/400: 100%|███████████████████| 49666/49666 [01:09<00:00, 715.99it/s, loss=0.000068]\n"
     ]
    },
    {
     "name": "stdout",
     "output_type": "stream",
     "text": [
      "eval PSNR: 45.56\n"
     ]
    },
    {
     "name": "stderr",
     "output_type": "stream",
     "text": [
      "epoch train: 179/400: 100%|███████████████████| 49666/49666 [01:09<00:00, 716.03it/s, loss=0.000068]\n"
     ]
    },
    {
     "name": "stdout",
     "output_type": "stream",
     "text": [
      "eval PSNR: 46.20\n"
     ]
    },
    {
     "name": "stderr",
     "output_type": "stream",
     "text": [
      "epoch train: 180/400: 100%|███████████████████| 49666/49666 [01:09<00:00, 716.16it/s, loss=0.000068]\n"
     ]
    },
    {
     "name": "stdout",
     "output_type": "stream",
     "text": [
      "eval PSNR: 46.12\n"
     ]
    },
    {
     "name": "stderr",
     "output_type": "stream",
     "text": [
      "epoch train: 181/400: 100%|███████████████████| 49666/49666 [01:09<00:00, 719.16it/s, loss=0.000068]\n"
     ]
    },
    {
     "name": "stdout",
     "output_type": "stream",
     "text": [
      "eval PSNR: 46.23\n"
     ]
    },
    {
     "name": "stderr",
     "output_type": "stream",
     "text": [
      "epoch train: 182/400: 100%|███████████████████| 49666/49666 [01:09<00:00, 718.81it/s, loss=0.000068]\n"
     ]
    },
    {
     "name": "stdout",
     "output_type": "stream",
     "text": [
      "eval PSNR: 46.02\n"
     ]
    },
    {
     "name": "stderr",
     "output_type": "stream",
     "text": [
      "epoch train: 183/400: 100%|███████████████████| 49666/49666 [01:09<00:00, 715.31it/s, loss=0.000068]\n"
     ]
    },
    {
     "name": "stdout",
     "output_type": "stream",
     "text": [
      "eval PSNR: 46.08\n"
     ]
    },
    {
     "name": "stderr",
     "output_type": "stream",
     "text": [
      "epoch train: 184/400: 100%|███████████████████| 49666/49666 [01:09<00:00, 715.68it/s, loss=0.000067]\n"
     ]
    },
    {
     "name": "stdout",
     "output_type": "stream",
     "text": [
      "eval PSNR: 43.29\n"
     ]
    },
    {
     "name": "stderr",
     "output_type": "stream",
     "text": [
      "epoch train: 185/400: 100%|███████████████████| 49666/49666 [01:09<00:00, 716.35it/s, loss=0.000067]\n"
     ]
    },
    {
     "name": "stdout",
     "output_type": "stream",
     "text": [
      "eval PSNR: 45.82\n"
     ]
    },
    {
     "name": "stderr",
     "output_type": "stream",
     "text": [
      "epoch train: 186/400: 100%|███████████████████| 49666/49666 [01:09<00:00, 715.34it/s, loss=0.000067]\n"
     ]
    },
    {
     "name": "stdout",
     "output_type": "stream",
     "text": [
      "eval PSNR: 46.03\n"
     ]
    },
    {
     "name": "stderr",
     "output_type": "stream",
     "text": [
      "epoch train: 187/400: 100%|███████████████████| 49666/49666 [01:09<00:00, 715.53it/s, loss=0.000067]\n"
     ]
    },
    {
     "name": "stdout",
     "output_type": "stream",
     "text": [
      "eval PSNR: 45.94\n"
     ]
    },
    {
     "name": "stderr",
     "output_type": "stream",
     "text": [
      "epoch train: 188/400: 100%|███████████████████| 49666/49666 [01:09<00:00, 716.27it/s, loss=0.000067]\n"
     ]
    },
    {
     "name": "stdout",
     "output_type": "stream",
     "text": [
      "eval PSNR: 46.21\n"
     ]
    },
    {
     "name": "stderr",
     "output_type": "stream",
     "text": [
      "epoch train: 189/400: 100%|███████████████████| 49666/49666 [01:09<00:00, 716.22it/s, loss=0.000067]\n"
     ]
    },
    {
     "name": "stdout",
     "output_type": "stream",
     "text": [
      "eval PSNR: 46.00\n"
     ]
    },
    {
     "name": "stderr",
     "output_type": "stream",
     "text": [
      "epoch train: 190/400: 100%|███████████████████| 49666/49666 [01:09<00:00, 716.22it/s, loss=0.000067]\n"
     ]
    },
    {
     "name": "stdout",
     "output_type": "stream",
     "text": [
      "eval PSNR: 46.02\n"
     ]
    },
    {
     "name": "stderr",
     "output_type": "stream",
     "text": [
      "epoch train: 191/400: 100%|███████████████████| 49666/49666 [01:09<00:00, 715.65it/s, loss=0.000067]\n"
     ]
    },
    {
     "name": "stdout",
     "output_type": "stream",
     "text": [
      "eval PSNR: 46.14\n"
     ]
    },
    {
     "name": "stderr",
     "output_type": "stream",
     "text": [
      "epoch train: 192/400: 100%|███████████████████| 49666/49666 [01:09<00:00, 717.51it/s, loss=0.000067]\n"
     ]
    },
    {
     "name": "stdout",
     "output_type": "stream",
     "text": [
      "eval PSNR: 46.04\n"
     ]
    },
    {
     "name": "stderr",
     "output_type": "stream",
     "text": [
      "epoch train: 193/400: 100%|███████████████████| 49666/49666 [01:09<00:00, 717.60it/s, loss=0.000067]\n"
     ]
    },
    {
     "name": "stdout",
     "output_type": "stream",
     "text": [
      "eval PSNR: 46.10\n"
     ]
    },
    {
     "name": "stderr",
     "output_type": "stream",
     "text": [
      "epoch train: 194/400: 100%|███████████████████| 49666/49666 [01:08<00:00, 720.93it/s, loss=0.000067]\n"
     ]
    },
    {
     "name": "stdout",
     "output_type": "stream",
     "text": [
      "eval PSNR: 46.26\n"
     ]
    },
    {
     "name": "stderr",
     "output_type": "stream",
     "text": [
      "epoch train: 195/400: 100%|███████████████████| 49666/49666 [01:09<00:00, 717.28it/s, loss=0.000067]\n"
     ]
    },
    {
     "name": "stdout",
     "output_type": "stream",
     "text": [
      "eval PSNR: 45.79\n"
     ]
    },
    {
     "name": "stderr",
     "output_type": "stream",
     "text": [
      "epoch train: 196/400: 100%|███████████████████| 49666/49666 [01:09<00:00, 716.31it/s, loss=0.000067]\n"
     ]
    },
    {
     "name": "stdout",
     "output_type": "stream",
     "text": [
      "eval PSNR: 46.05\n"
     ]
    },
    {
     "name": "stderr",
     "output_type": "stream",
     "text": [
      "epoch train: 197/400: 100%|███████████████████| 49666/49666 [01:09<00:00, 716.46it/s, loss=0.000067]\n"
     ]
    },
    {
     "name": "stdout",
     "output_type": "stream",
     "text": [
      "eval PSNR: 45.68\n"
     ]
    },
    {
     "name": "stderr",
     "output_type": "stream",
     "text": [
      "epoch train: 198/400: 100%|███████████████████| 49666/49666 [01:09<00:00, 716.67it/s, loss=0.000067]\n"
     ]
    },
    {
     "name": "stdout",
     "output_type": "stream",
     "text": [
      "eval PSNR: 46.20\n"
     ]
    },
    {
     "name": "stderr",
     "output_type": "stream",
     "text": [
      "epoch train: 199/400: 100%|███████████████████| 49666/49666 [01:09<00:00, 715.95it/s, loss=0.000067]\n"
     ]
    },
    {
     "name": "stdout",
     "output_type": "stream",
     "text": [
      "eval PSNR: 46.06\n"
     ]
    },
    {
     "name": "stderr",
     "output_type": "stream",
     "text": [
      "epoch train: 200/400: 100%|███████████████████| 49666/49666 [01:09<00:00, 715.06it/s, loss=0.000067]\n"
     ]
    },
    {
     "name": "stdout",
     "output_type": "stream",
     "text": [
      "eval PSNR: 45.60\n"
     ]
    },
    {
     "name": "stderr",
     "output_type": "stream",
     "text": [
      "epoch train: 201/400: 100%|███████████████████| 49666/49666 [01:09<00:00, 716.21it/s, loss=0.000067]\n"
     ]
    },
    {
     "name": "stdout",
     "output_type": "stream",
     "text": [
      "eval PSNR: 45.60\n"
     ]
    },
    {
     "name": "stderr",
     "output_type": "stream",
     "text": [
      "epoch train: 202/400: 100%|███████████████████| 49666/49666 [01:09<00:00, 717.66it/s, loss=0.000067]\n"
     ]
    },
    {
     "name": "stdout",
     "output_type": "stream",
     "text": [
      "eval PSNR: 45.93\n"
     ]
    },
    {
     "name": "stderr",
     "output_type": "stream",
     "text": [
      "epoch train: 203/400: 100%|███████████████████| 49666/49666 [01:09<00:00, 717.93it/s, loss=0.000066]\n"
     ]
    },
    {
     "name": "stdout",
     "output_type": "stream",
     "text": [
      "eval PSNR: 45.62\n"
     ]
    },
    {
     "name": "stderr",
     "output_type": "stream",
     "text": [
      "epoch train: 204/400: 100%|███████████████████| 49666/49666 [01:08<00:00, 722.76it/s, loss=0.000067]\n"
     ]
    },
    {
     "name": "stdout",
     "output_type": "stream",
     "text": [
      "eval PSNR: 45.90\n"
     ]
    },
    {
     "name": "stderr",
     "output_type": "stream",
     "text": [
      "epoch train: 205/400: 100%|███████████████████| 49666/49666 [01:08<00:00, 721.58it/s, loss=0.000066]\n"
     ]
    },
    {
     "name": "stdout",
     "output_type": "stream",
     "text": [
      "eval PSNR: 46.21\n"
     ]
    },
    {
     "name": "stderr",
     "output_type": "stream",
     "text": [
      "epoch train: 206/400: 100%|███████████████████| 49666/49666 [01:09<00:00, 716.71it/s, loss=0.000066]\n"
     ]
    },
    {
     "name": "stdout",
     "output_type": "stream",
     "text": [
      "eval PSNR: 46.21\n"
     ]
    },
    {
     "name": "stderr",
     "output_type": "stream",
     "text": [
      "epoch train: 207/400: 100%|███████████████████| 49666/49666 [01:09<00:00, 716.08it/s, loss=0.000066]\n"
     ]
    },
    {
     "name": "stdout",
     "output_type": "stream",
     "text": [
      "eval PSNR: 46.15\n"
     ]
    },
    {
     "name": "stderr",
     "output_type": "stream",
     "text": [
      "epoch train: 208/400: 100%|███████████████████| 49666/49666 [01:08<00:00, 720.80it/s, loss=0.000066]\n"
     ]
    },
    {
     "name": "stdout",
     "output_type": "stream",
     "text": [
      "eval PSNR: 45.69\n"
     ]
    },
    {
     "name": "stderr",
     "output_type": "stream",
     "text": [
      "epoch train: 209/400: 100%|███████████████████| 49666/49666 [01:09<00:00, 715.50it/s, loss=0.000066]\n"
     ]
    },
    {
     "name": "stdout",
     "output_type": "stream",
     "text": [
      "eval PSNR: 45.84\n"
     ]
    },
    {
     "name": "stderr",
     "output_type": "stream",
     "text": [
      "epoch train: 210/400: 100%|███████████████████| 49666/49666 [01:09<00:00, 717.39it/s, loss=0.000066]\n"
     ]
    },
    {
     "name": "stdout",
     "output_type": "stream",
     "text": [
      "eval PSNR: 45.76\n"
     ]
    },
    {
     "name": "stderr",
     "output_type": "stream",
     "text": [
      "epoch train: 211/400: 100%|███████████████████| 49666/49666 [01:09<00:00, 716.17it/s, loss=0.000066]\n"
     ]
    },
    {
     "name": "stdout",
     "output_type": "stream",
     "text": [
      "eval PSNR: 46.22\n"
     ]
    },
    {
     "name": "stderr",
     "output_type": "stream",
     "text": [
      "epoch train: 212/400: 100%|███████████████████| 49666/49666 [01:09<00:00, 716.27it/s, loss=0.000066]\n"
     ]
    },
    {
     "name": "stdout",
     "output_type": "stream",
     "text": [
      "eval PSNR: 45.85\n"
     ]
    },
    {
     "name": "stderr",
     "output_type": "stream",
     "text": [
      "epoch train: 213/400: 100%|███████████████████| 49666/49666 [01:08<00:00, 721.92it/s, loss=0.000066]\n"
     ]
    },
    {
     "name": "stdout",
     "output_type": "stream",
     "text": [
      "eval PSNR: 46.24\n"
     ]
    },
    {
     "name": "stderr",
     "output_type": "stream",
     "text": [
      "epoch train: 214/400: 100%|███████████████████| 49666/49666 [01:08<00:00, 719.82it/s, loss=0.000066]\n"
     ]
    },
    {
     "name": "stdout",
     "output_type": "stream",
     "text": [
      "eval PSNR: 46.10\n"
     ]
    },
    {
     "name": "stderr",
     "output_type": "stream",
     "text": [
      "epoch train: 215/400: 100%|███████████████████| 49666/49666 [01:09<00:00, 715.81it/s, loss=0.000066]\n"
     ]
    },
    {
     "name": "stdout",
     "output_type": "stream",
     "text": [
      "eval PSNR: 46.32\n"
     ]
    },
    {
     "name": "stderr",
     "output_type": "stream",
     "text": [
      "epoch train: 216/400: 100%|███████████████████| 49666/49666 [01:08<00:00, 721.30it/s, loss=0.000066]\n"
     ]
    },
    {
     "name": "stdout",
     "output_type": "stream",
     "text": [
      "eval PSNR: 45.88\n"
     ]
    },
    {
     "name": "stderr",
     "output_type": "stream",
     "text": [
      "epoch train: 217/400: 100%|███████████████████| 49666/49666 [01:09<00:00, 717.23it/s, loss=0.000066]\n"
     ]
    },
    {
     "name": "stdout",
     "output_type": "stream",
     "text": [
      "eval PSNR: 46.11\n"
     ]
    },
    {
     "name": "stderr",
     "output_type": "stream",
     "text": [
      "epoch train: 218/400: 100%|███████████████████| 49666/49666 [01:09<00:00, 716.84it/s, loss=0.000066]\n"
     ]
    },
    {
     "name": "stdout",
     "output_type": "stream",
     "text": [
      "eval PSNR: 46.07\n"
     ]
    },
    {
     "name": "stderr",
     "output_type": "stream",
     "text": [
      "epoch train: 219/400: 100%|███████████████████| 49666/49666 [01:09<00:00, 716.70it/s, loss=0.000066]\n"
     ]
    },
    {
     "name": "stdout",
     "output_type": "stream",
     "text": [
      "eval PSNR: 46.25\n"
     ]
    },
    {
     "name": "stderr",
     "output_type": "stream",
     "text": [
      "epoch train: 220/400: 100%|███████████████████| 49666/49666 [01:09<00:00, 716.32it/s, loss=0.000066]\n"
     ]
    },
    {
     "name": "stdout",
     "output_type": "stream",
     "text": [
      "eval PSNR: 46.13\n"
     ]
    },
    {
     "name": "stderr",
     "output_type": "stream",
     "text": [
      "epoch train: 221/400: 100%|███████████████████| 49666/49666 [01:09<00:00, 715.90it/s, loss=0.000066]\n"
     ]
    },
    {
     "name": "stdout",
     "output_type": "stream",
     "text": [
      "eval PSNR: 46.18\n"
     ]
    },
    {
     "name": "stderr",
     "output_type": "stream",
     "text": [
      "epoch train: 222/400: 100%|███████████████████| 49666/49666 [01:09<00:00, 715.94it/s, loss=0.000066]\n"
     ]
    },
    {
     "name": "stdout",
     "output_type": "stream",
     "text": [
      "eval PSNR: 46.05\n"
     ]
    },
    {
     "name": "stderr",
     "output_type": "stream",
     "text": [
      "epoch train: 223/400: 100%|███████████████████| 49666/49666 [01:09<00:00, 716.76it/s, loss=0.000066]\n"
     ]
    },
    {
     "name": "stdout",
     "output_type": "stream",
     "text": [
      "eval PSNR: 46.16\n"
     ]
    },
    {
     "name": "stderr",
     "output_type": "stream",
     "text": [
      "epoch train: 224/400: 100%|███████████████████| 49666/49666 [01:09<00:00, 716.60it/s, loss=0.000066]\n"
     ]
    },
    {
     "name": "stdout",
     "output_type": "stream",
     "text": [
      "eval PSNR: 46.32\n"
     ]
    },
    {
     "name": "stderr",
     "output_type": "stream",
     "text": [
      "epoch train: 225/400: 100%|███████████████████| 49666/49666 [01:08<00:00, 721.85it/s, loss=0.000066]\n"
     ]
    },
    {
     "name": "stdout",
     "output_type": "stream",
     "text": [
      "eval PSNR: 45.82\n"
     ]
    },
    {
     "name": "stderr",
     "output_type": "stream",
     "text": [
      "epoch train: 226/400: 100%|███████████████████| 49666/49666 [01:09<00:00, 716.16it/s, loss=0.000066]\n"
     ]
    },
    {
     "name": "stdout",
     "output_type": "stream",
     "text": [
      "eval PSNR: 46.15\n"
     ]
    },
    {
     "name": "stderr",
     "output_type": "stream",
     "text": [
      "epoch train: 227/400: 100%|███████████████████| 49666/49666 [01:09<00:00, 716.16it/s, loss=0.000066]\n"
     ]
    },
    {
     "name": "stdout",
     "output_type": "stream",
     "text": [
      "eval PSNR: 46.20\n"
     ]
    },
    {
     "name": "stderr",
     "output_type": "stream",
     "text": [
      "epoch train: 228/400: 100%|███████████████████| 49666/49666 [01:09<00:00, 715.82it/s, loss=0.000066]\n"
     ]
    },
    {
     "name": "stdout",
     "output_type": "stream",
     "text": [
      "eval PSNR: 46.03\n"
     ]
    },
    {
     "name": "stderr",
     "output_type": "stream",
     "text": [
      "epoch train: 229/400: 100%|███████████████████| 49666/49666 [01:09<00:00, 715.71it/s, loss=0.000065]\n"
     ]
    },
    {
     "name": "stdout",
     "output_type": "stream",
     "text": [
      "eval PSNR: 46.23\n"
     ]
    },
    {
     "name": "stderr",
     "output_type": "stream",
     "text": [
      "epoch train: 230/400: 100%|███████████████████| 49666/49666 [01:08<00:00, 720.83it/s, loss=0.000065]\n"
     ]
    },
    {
     "name": "stdout",
     "output_type": "stream",
     "text": [
      "eval PSNR: 46.00\n"
     ]
    },
    {
     "name": "stderr",
     "output_type": "stream",
     "text": [
      "epoch train: 231/400: 100%|███████████████████| 49666/49666 [01:09<00:00, 715.80it/s, loss=0.000065]\n"
     ]
    },
    {
     "name": "stdout",
     "output_type": "stream",
     "text": [
      "eval PSNR: 45.65\n"
     ]
    },
    {
     "name": "stderr",
     "output_type": "stream",
     "text": [
      "epoch train: 232/400: 100%|███████████████████| 49666/49666 [01:09<00:00, 716.80it/s, loss=0.000065]\n"
     ]
    },
    {
     "name": "stdout",
     "output_type": "stream",
     "text": [
      "eval PSNR: 46.18\n"
     ]
    },
    {
     "name": "stderr",
     "output_type": "stream",
     "text": [
      "epoch train: 233/400: 100%|███████████████████| 49666/49666 [01:09<00:00, 716.35it/s, loss=0.000065]\n"
     ]
    },
    {
     "name": "stdout",
     "output_type": "stream",
     "text": [
      "eval PSNR: 46.05\n"
     ]
    },
    {
     "name": "stderr",
     "output_type": "stream",
     "text": [
      "epoch train: 234/400: 100%|███████████████████| 49666/49666 [01:09<00:00, 716.62it/s, loss=0.000065]\n"
     ]
    },
    {
     "name": "stdout",
     "output_type": "stream",
     "text": [
      "eval PSNR: 46.31\n"
     ]
    },
    {
     "name": "stderr",
     "output_type": "stream",
     "text": [
      "epoch train: 235/400: 100%|███████████████████| 49666/49666 [01:09<00:00, 715.34it/s, loss=0.000065]\n"
     ]
    },
    {
     "name": "stdout",
     "output_type": "stream",
     "text": [
      "eval PSNR: 46.17\n"
     ]
    },
    {
     "name": "stderr",
     "output_type": "stream",
     "text": [
      "epoch train: 236/400: 100%|███████████████████| 49666/49666 [01:09<00:00, 715.47it/s, loss=0.000065]\n"
     ]
    },
    {
     "name": "stdout",
     "output_type": "stream",
     "text": [
      "eval PSNR: 46.26\n"
     ]
    },
    {
     "name": "stderr",
     "output_type": "stream",
     "text": [
      "epoch train: 237/400: 100%|███████████████████| 49666/49666 [01:09<00:00, 714.73it/s, loss=0.000065]\n"
     ]
    },
    {
     "name": "stdout",
     "output_type": "stream",
     "text": [
      "eval PSNR: 46.31\n"
     ]
    },
    {
     "name": "stderr",
     "output_type": "stream",
     "text": [
      "epoch train: 238/400: 100%|███████████████████| 49666/49666 [01:09<00:00, 715.48it/s, loss=0.000065]\n"
     ]
    },
    {
     "name": "stdout",
     "output_type": "stream",
     "text": [
      "eval PSNR: 46.15\n"
     ]
    },
    {
     "name": "stderr",
     "output_type": "stream",
     "text": [
      "epoch train: 239/400: 100%|███████████████████| 49666/49666 [01:09<00:00, 714.83it/s, loss=0.000065]\n"
     ]
    },
    {
     "name": "stdout",
     "output_type": "stream",
     "text": [
      "eval PSNR: 46.29\n"
     ]
    },
    {
     "name": "stderr",
     "output_type": "stream",
     "text": [
      "epoch train: 240/400: 100%|███████████████████| 49666/49666 [01:09<00:00, 715.38it/s, loss=0.000065]\n"
     ]
    },
    {
     "name": "stdout",
     "output_type": "stream",
     "text": [
      "eval PSNR: 46.25\n"
     ]
    },
    {
     "name": "stderr",
     "output_type": "stream",
     "text": [
      "epoch train: 241/400: 100%|███████████████████| 49666/49666 [01:09<00:00, 715.46it/s, loss=0.000065]\n"
     ]
    },
    {
     "name": "stdout",
     "output_type": "stream",
     "text": [
      "eval PSNR: 46.19\n"
     ]
    },
    {
     "name": "stderr",
     "output_type": "stream",
     "text": [
      "epoch train: 242/400: 100%|███████████████████| 49666/49666 [01:09<00:00, 714.44it/s, loss=0.000065]\n"
     ]
    },
    {
     "name": "stdout",
     "output_type": "stream",
     "text": [
      "eval PSNR: 46.29\n"
     ]
    },
    {
     "name": "stderr",
     "output_type": "stream",
     "text": [
      "epoch train: 243/400: 100%|███████████████████| 49666/49666 [01:09<00:00, 714.85it/s, loss=0.000065]\n"
     ]
    },
    {
     "name": "stdout",
     "output_type": "stream",
     "text": [
      "eval PSNR: 46.04\n"
     ]
    },
    {
     "name": "stderr",
     "output_type": "stream",
     "text": [
      "epoch train: 244/400: 100%|███████████████████| 49666/49666 [01:09<00:00, 714.54it/s, loss=0.000065]\n"
     ]
    },
    {
     "name": "stdout",
     "output_type": "stream",
     "text": [
      "eval PSNR: 46.17\n"
     ]
    },
    {
     "name": "stderr",
     "output_type": "stream",
     "text": [
      "epoch train: 245/400: 100%|███████████████████| 49666/49666 [01:08<00:00, 720.98it/s, loss=0.000065]\n"
     ]
    },
    {
     "name": "stdout",
     "output_type": "stream",
     "text": [
      "eval PSNR: 46.26\n"
     ]
    },
    {
     "name": "stderr",
     "output_type": "stream",
     "text": [
      "epoch train: 246/400: 100%|███████████████████| 49666/49666 [01:08<00:00, 719.87it/s, loss=0.000065]\n"
     ]
    },
    {
     "name": "stdout",
     "output_type": "stream",
     "text": [
      "eval PSNR: 45.83\n"
     ]
    },
    {
     "name": "stderr",
     "output_type": "stream",
     "text": [
      "epoch train: 247/400: 100%|███████████████████| 49666/49666 [01:09<00:00, 715.05it/s, loss=0.000065]\n"
     ]
    },
    {
     "name": "stdout",
     "output_type": "stream",
     "text": [
      "eval PSNR: 46.10\n"
     ]
    },
    {
     "name": "stderr",
     "output_type": "stream",
     "text": [
      "epoch train: 248/400: 100%|███████████████████| 49666/49666 [01:09<00:00, 714.86it/s, loss=0.000065]\n"
     ]
    },
    {
     "name": "stdout",
     "output_type": "stream",
     "text": [
      "eval PSNR: 46.21\n"
     ]
    },
    {
     "name": "stderr",
     "output_type": "stream",
     "text": [
      "epoch train: 249/400: 100%|███████████████████| 49666/49666 [01:09<00:00, 719.71it/s, loss=0.000065]\n"
     ]
    },
    {
     "name": "stdout",
     "output_type": "stream",
     "text": [
      "eval PSNR: 46.24\n"
     ]
    },
    {
     "name": "stderr",
     "output_type": "stream",
     "text": [
      "epoch train: 250/400: 100%|███████████████████| 49666/49666 [01:09<00:00, 715.06it/s, loss=0.000065]\n"
     ]
    },
    {
     "name": "stdout",
     "output_type": "stream",
     "text": [
      "eval PSNR: 46.37\n"
     ]
    },
    {
     "name": "stderr",
     "output_type": "stream",
     "text": [
      "epoch train: 251/400: 100%|███████████████████| 49666/49666 [01:09<00:00, 718.91it/s, loss=0.000065]\n"
     ]
    },
    {
     "name": "stdout",
     "output_type": "stream",
     "text": [
      "eval PSNR: 46.08\n"
     ]
    },
    {
     "name": "stderr",
     "output_type": "stream",
     "text": [
      "epoch train: 252/400: 100%|███████████████████| 49666/49666 [01:09<00:00, 715.82it/s, loss=0.000065]\n"
     ]
    },
    {
     "name": "stdout",
     "output_type": "stream",
     "text": [
      "eval PSNR: 45.96\n"
     ]
    },
    {
     "name": "stderr",
     "output_type": "stream",
     "text": [
      "epoch train: 253/400: 100%|███████████████████| 49666/49666 [01:09<00:00, 716.33it/s, loss=0.000065]\n"
     ]
    },
    {
     "name": "stdout",
     "output_type": "stream",
     "text": [
      "eval PSNR: 45.89\n"
     ]
    },
    {
     "name": "stderr",
     "output_type": "stream",
     "text": [
      "epoch train: 254/400: 100%|███████████████████| 49666/49666 [01:09<00:00, 715.42it/s, loss=0.000065]\n"
     ]
    },
    {
     "name": "stdout",
     "output_type": "stream",
     "text": [
      "eval PSNR: 46.13\n"
     ]
    },
    {
     "name": "stderr",
     "output_type": "stream",
     "text": [
      "epoch train: 255/400: 100%|███████████████████| 49666/49666 [01:09<00:00, 717.96it/s, loss=0.000065]\n"
     ]
    },
    {
     "name": "stdout",
     "output_type": "stream",
     "text": [
      "eval PSNR: 45.87\n"
     ]
    },
    {
     "name": "stderr",
     "output_type": "stream",
     "text": [
      "epoch train: 256/400: 100%|███████████████████| 49666/49666 [01:09<00:00, 716.97it/s, loss=0.000065]\n"
     ]
    },
    {
     "name": "stdout",
     "output_type": "stream",
     "text": [
      "eval PSNR: 46.11\n"
     ]
    },
    {
     "name": "stderr",
     "output_type": "stream",
     "text": [
      "epoch train: 257/400: 100%|███████████████████| 49666/49666 [01:09<00:00, 718.99it/s, loss=0.000064]\n"
     ]
    },
    {
     "name": "stdout",
     "output_type": "stream",
     "text": [
      "eval PSNR: 45.95\n"
     ]
    },
    {
     "name": "stderr",
     "output_type": "stream",
     "text": [
      "epoch train: 258/400: 100%|███████████████████| 49666/49666 [01:09<00:00, 715.86it/s, loss=0.000064]\n"
     ]
    },
    {
     "name": "stdout",
     "output_type": "stream",
     "text": [
      "eval PSNR: 45.34\n"
     ]
    },
    {
     "name": "stderr",
     "output_type": "stream",
     "text": [
      "epoch train: 259/400: 100%|███████████████████| 49666/49666 [01:09<00:00, 714.69it/s, loss=0.000064]\n"
     ]
    },
    {
     "name": "stdout",
     "output_type": "stream",
     "text": [
      "eval PSNR: 45.83\n"
     ]
    },
    {
     "name": "stderr",
     "output_type": "stream",
     "text": [
      "epoch train: 260/400: 100%|███████████████████| 49666/49666 [01:09<00:00, 716.93it/s, loss=0.000064]\n"
     ]
    },
    {
     "name": "stdout",
     "output_type": "stream",
     "text": [
      "eval PSNR: 46.14\n"
     ]
    },
    {
     "name": "stderr",
     "output_type": "stream",
     "text": [
      "epoch train: 261/400: 100%|███████████████████| 49666/49666 [01:09<00:00, 715.64it/s, loss=0.000064]\n"
     ]
    },
    {
     "name": "stdout",
     "output_type": "stream",
     "text": [
      "eval PSNR: 45.88\n"
     ]
    },
    {
     "name": "stderr",
     "output_type": "stream",
     "text": [
      "epoch train: 262/400: 100%|███████████████████| 49666/49666 [01:09<00:00, 717.53it/s, loss=0.000064]\n"
     ]
    },
    {
     "name": "stdout",
     "output_type": "stream",
     "text": [
      "eval PSNR: 46.23\n"
     ]
    },
    {
     "name": "stderr",
     "output_type": "stream",
     "text": [
      "epoch train: 263/400: 100%|███████████████████| 49666/49666 [01:09<00:00, 717.60it/s, loss=0.000064]\n"
     ]
    },
    {
     "name": "stdout",
     "output_type": "stream",
     "text": [
      "eval PSNR: 46.23\n"
     ]
    },
    {
     "name": "stderr",
     "output_type": "stream",
     "text": [
      "epoch train: 264/400: 100%|███████████████████| 49666/49666 [01:09<00:00, 716.08it/s, loss=0.000064]\n"
     ]
    },
    {
     "name": "stdout",
     "output_type": "stream",
     "text": [
      "eval PSNR: 46.22\n"
     ]
    },
    {
     "name": "stderr",
     "output_type": "stream",
     "text": [
      "epoch train: 265/400: 100%|███████████████████| 49666/49666 [01:09<00:00, 715.38it/s, loss=0.000064]\n"
     ]
    },
    {
     "name": "stdout",
     "output_type": "stream",
     "text": [
      "eval PSNR: 46.02\n"
     ]
    },
    {
     "name": "stderr",
     "output_type": "stream",
     "text": [
      "epoch train: 266/400: 100%|███████████████████| 49666/49666 [01:09<00:00, 714.94it/s, loss=0.000064]\n"
     ]
    },
    {
     "name": "stdout",
     "output_type": "stream",
     "text": [
      "eval PSNR: 46.33\n"
     ]
    },
    {
     "name": "stderr",
     "output_type": "stream",
     "text": [
      "epoch train: 267/400: 100%|███████████████████| 49666/49666 [01:09<00:00, 714.53it/s, loss=0.000064]\n"
     ]
    },
    {
     "name": "stdout",
     "output_type": "stream",
     "text": [
      "eval PSNR: 45.57\n"
     ]
    },
    {
     "name": "stderr",
     "output_type": "stream",
     "text": [
      "epoch train: 268/400: 100%|███████████████████| 49666/49666 [01:09<00:00, 718.06it/s, loss=0.000064]\n"
     ]
    },
    {
     "name": "stdout",
     "output_type": "stream",
     "text": [
      "eval PSNR: 46.35\n"
     ]
    },
    {
     "name": "stderr",
     "output_type": "stream",
     "text": [
      "epoch train: 269/400: 100%|███████████████████| 49666/49666 [01:09<00:00, 714.32it/s, loss=0.000064]\n"
     ]
    },
    {
     "name": "stdout",
     "output_type": "stream",
     "text": [
      "eval PSNR: 46.28\n"
     ]
    },
    {
     "name": "stderr",
     "output_type": "stream",
     "text": [
      "epoch train: 270/400: 100%|███████████████████| 49666/49666 [01:09<00:00, 714.45it/s, loss=0.000064]\n"
     ]
    },
    {
     "name": "stdout",
     "output_type": "stream",
     "text": [
      "eval PSNR: 46.11\n"
     ]
    },
    {
     "name": "stderr",
     "output_type": "stream",
     "text": [
      "epoch train: 271/400: 100%|███████████████████| 49666/49666 [01:09<00:00, 714.36it/s, loss=0.000064]\n"
     ]
    },
    {
     "name": "stdout",
     "output_type": "stream",
     "text": [
      "eval PSNR: 46.31\n"
     ]
    },
    {
     "name": "stderr",
     "output_type": "stream",
     "text": [
      "epoch train: 272/400: 100%|███████████████████| 49666/49666 [01:09<00:00, 717.05it/s, loss=0.000064]\n"
     ]
    },
    {
     "name": "stdout",
     "output_type": "stream",
     "text": [
      "eval PSNR: 46.28\n"
     ]
    },
    {
     "name": "stderr",
     "output_type": "stream",
     "text": [
      "epoch train: 273/400: 100%|███████████████████| 49666/49666 [01:09<00:00, 713.67it/s, loss=0.000064]\n"
     ]
    },
    {
     "name": "stdout",
     "output_type": "stream",
     "text": [
      "eval PSNR: 45.91\n"
     ]
    },
    {
     "name": "stderr",
     "output_type": "stream",
     "text": [
      "epoch train: 274/400: 100%|███████████████████| 49666/49666 [01:09<00:00, 713.74it/s, loss=0.000064]\n"
     ]
    },
    {
     "name": "stdout",
     "output_type": "stream",
     "text": [
      "eval PSNR: 46.36\n"
     ]
    },
    {
     "name": "stderr",
     "output_type": "stream",
     "text": [
      "epoch train: 275/400: 100%|███████████████████| 49666/49666 [01:09<00:00, 713.68it/s, loss=0.000064]\n"
     ]
    },
    {
     "name": "stdout",
     "output_type": "stream",
     "text": [
      "eval PSNR: 46.36\n"
     ]
    },
    {
     "name": "stderr",
     "output_type": "stream",
     "text": [
      "epoch train: 276/400: 100%|███████████████████| 49666/49666 [01:09<00:00, 714.44it/s, loss=0.000064]\n"
     ]
    },
    {
     "name": "stdout",
     "output_type": "stream",
     "text": [
      "eval PSNR: 46.21\n"
     ]
    },
    {
     "name": "stderr",
     "output_type": "stream",
     "text": [
      "epoch train: 277/400: 100%|███████████████████| 49666/49666 [01:09<00:00, 714.12it/s, loss=0.000064]\n"
     ]
    },
    {
     "name": "stdout",
     "output_type": "stream",
     "text": [
      "eval PSNR: 45.98\n"
     ]
    },
    {
     "name": "stderr",
     "output_type": "stream",
     "text": [
      "epoch train: 278/400: 100%|███████████████████| 49666/49666 [01:09<00:00, 714.88it/s, loss=0.000064]\n"
     ]
    },
    {
     "name": "stdout",
     "output_type": "stream",
     "text": [
      "eval PSNR: 46.27\n"
     ]
    },
    {
     "name": "stderr",
     "output_type": "stream",
     "text": [
      "epoch train: 279/400: 100%|███████████████████| 49666/49666 [01:09<00:00, 718.14it/s, loss=0.000064]\n"
     ]
    },
    {
     "name": "stdout",
     "output_type": "stream",
     "text": [
      "eval PSNR: 46.29\n"
     ]
    },
    {
     "name": "stderr",
     "output_type": "stream",
     "text": [
      "epoch train: 280/400: 100%|███████████████████| 49666/49666 [01:09<00:00, 714.15it/s, loss=0.000064]\n"
     ]
    },
    {
     "name": "stdout",
     "output_type": "stream",
     "text": [
      "eval PSNR: 46.30\n"
     ]
    },
    {
     "name": "stderr",
     "output_type": "stream",
     "text": [
      "epoch train: 281/400: 100%|███████████████████| 49666/49666 [01:09<00:00, 713.13it/s, loss=0.000064]\n"
     ]
    },
    {
     "name": "stdout",
     "output_type": "stream",
     "text": [
      "eval PSNR: 46.39\n"
     ]
    },
    {
     "name": "stderr",
     "output_type": "stream",
     "text": [
      "epoch train: 282/400: 100%|███████████████████| 49666/49666 [01:09<00:00, 719.18it/s, loss=0.000064]\n"
     ]
    },
    {
     "name": "stdout",
     "output_type": "stream",
     "text": [
      "eval PSNR: 46.10\n"
     ]
    },
    {
     "name": "stderr",
     "output_type": "stream",
     "text": [
      "epoch train: 283/400: 100%|███████████████████| 49666/49666 [01:09<00:00, 714.82it/s, loss=0.000064]\n"
     ]
    },
    {
     "name": "stdout",
     "output_type": "stream",
     "text": [
      "eval PSNR: 46.25\n"
     ]
    },
    {
     "name": "stderr",
     "output_type": "stream",
     "text": [
      "epoch train: 284/400: 100%|███████████████████| 49666/49666 [01:09<00:00, 713.58it/s, loss=0.000064]\n"
     ]
    },
    {
     "name": "stdout",
     "output_type": "stream",
     "text": [
      "eval PSNR: 46.33\n"
     ]
    },
    {
     "name": "stderr",
     "output_type": "stream",
     "text": [
      "epoch train: 285/400: 100%|███████████████████| 49666/49666 [01:09<00:00, 713.83it/s, loss=0.000064]\n"
     ]
    },
    {
     "name": "stdout",
     "output_type": "stream",
     "text": [
      "eval PSNR: 46.31\n"
     ]
    },
    {
     "name": "stderr",
     "output_type": "stream",
     "text": [
      "epoch train: 286/400: 100%|███████████████████| 49666/49666 [01:09<00:00, 714.17it/s, loss=0.000063]\n"
     ]
    },
    {
     "name": "stdout",
     "output_type": "stream",
     "text": [
      "eval PSNR: 45.95\n"
     ]
    },
    {
     "name": "stderr",
     "output_type": "stream",
     "text": [
      "epoch train: 287/400: 100%|███████████████████| 49666/49666 [01:09<00:00, 713.37it/s, loss=0.000064]\n"
     ]
    },
    {
     "name": "stdout",
     "output_type": "stream",
     "text": [
      "eval PSNR: 46.18\n"
     ]
    },
    {
     "name": "stderr",
     "output_type": "stream",
     "text": [
      "epoch train: 288/400: 100%|███████████████████| 49666/49666 [01:09<00:00, 713.58it/s, loss=0.000063]\n"
     ]
    },
    {
     "name": "stdout",
     "output_type": "stream",
     "text": [
      "eval PSNR: 46.11\n"
     ]
    },
    {
     "name": "stderr",
     "output_type": "stream",
     "text": [
      "epoch train: 289/400: 100%|███████████████████| 49666/49666 [01:09<00:00, 714.05it/s, loss=0.000063]\n"
     ]
    },
    {
     "name": "stdout",
     "output_type": "stream",
     "text": [
      "eval PSNR: 46.12\n"
     ]
    },
    {
     "name": "stderr",
     "output_type": "stream",
     "text": [
      "epoch train: 290/400: 100%|███████████████████| 49666/49666 [01:09<00:00, 713.77it/s, loss=0.000063]\n"
     ]
    },
    {
     "name": "stdout",
     "output_type": "stream",
     "text": [
      "eval PSNR: 46.37\n"
     ]
    },
    {
     "name": "stderr",
     "output_type": "stream",
     "text": [
      "epoch train: 291/400: 100%|███████████████████| 49666/49666 [01:09<00:00, 713.33it/s, loss=0.000063]\n"
     ]
    },
    {
     "name": "stdout",
     "output_type": "stream",
     "text": [
      "eval PSNR: 46.10\n"
     ]
    },
    {
     "name": "stderr",
     "output_type": "stream",
     "text": [
      "epoch train: 292/400: 100%|███████████████████| 49666/49666 [01:09<00:00, 713.27it/s, loss=0.000063]\n"
     ]
    },
    {
     "name": "stdout",
     "output_type": "stream",
     "text": [
      "eval PSNR: 46.19\n"
     ]
    },
    {
     "name": "stderr",
     "output_type": "stream",
     "text": [
      "epoch train: 293/400: 100%|███████████████████| 49666/49666 [01:09<00:00, 713.18it/s, loss=0.000063]\n"
     ]
    },
    {
     "name": "stdout",
     "output_type": "stream",
     "text": [
      "eval PSNR: 46.42\n"
     ]
    },
    {
     "name": "stderr",
     "output_type": "stream",
     "text": [
      "epoch train: 294/400: 100%|███████████████████| 49666/49666 [01:09<00:00, 712.29it/s, loss=0.000063]\n"
     ]
    },
    {
     "name": "stdout",
     "output_type": "stream",
     "text": [
      "eval PSNR: 46.37\n"
     ]
    },
    {
     "name": "stderr",
     "output_type": "stream",
     "text": [
      "epoch train: 295/400: 100%|███████████████████| 49666/49666 [01:09<00:00, 711.77it/s, loss=0.000063]\n"
     ]
    },
    {
     "name": "stdout",
     "output_type": "stream",
     "text": [
      "eval PSNR: 46.04\n"
     ]
    },
    {
     "name": "stderr",
     "output_type": "stream",
     "text": [
      "epoch train: 296/400: 100%|███████████████████| 49666/49666 [01:09<00:00, 714.40it/s, loss=0.000063]\n"
     ]
    },
    {
     "name": "stdout",
     "output_type": "stream",
     "text": [
      "eval PSNR: 46.36\n"
     ]
    },
    {
     "name": "stderr",
     "output_type": "stream",
     "text": [
      "epoch train: 297/400: 100%|███████████████████| 49666/49666 [01:09<00:00, 713.19it/s, loss=0.000063]\n"
     ]
    },
    {
     "name": "stdout",
     "output_type": "stream",
     "text": [
      "eval PSNR: 46.07\n"
     ]
    },
    {
     "name": "stderr",
     "output_type": "stream",
     "text": [
      "epoch train: 298/400: 100%|███████████████████| 49666/49666 [01:09<00:00, 713.51it/s, loss=0.000063]\n"
     ]
    },
    {
     "name": "stdout",
     "output_type": "stream",
     "text": [
      "eval PSNR: 46.43\n"
     ]
    },
    {
     "name": "stderr",
     "output_type": "stream",
     "text": [
      "epoch train: 299/400: 100%|███████████████████| 49666/49666 [01:09<00:00, 713.75it/s, loss=0.000063]\n"
     ]
    },
    {
     "name": "stdout",
     "output_type": "stream",
     "text": [
      "eval PSNR: 46.18\n"
     ]
    },
    {
     "name": "stderr",
     "output_type": "stream",
     "text": [
      "epoch train: 300/400: 100%|███████████████████| 49666/49666 [01:09<00:00, 712.26it/s, loss=0.000063]\n"
     ]
    },
    {
     "name": "stdout",
     "output_type": "stream",
     "text": [
      "eval PSNR: 46.34\n"
     ]
    },
    {
     "name": "stderr",
     "output_type": "stream",
     "text": [
      "epoch train: 301/400: 100%|███████████████████| 49666/49666 [01:09<00:00, 712.34it/s, loss=0.000063]\n"
     ]
    },
    {
     "name": "stdout",
     "output_type": "stream",
     "text": [
      "eval PSNR: 46.18\n"
     ]
    },
    {
     "name": "stderr",
     "output_type": "stream",
     "text": [
      "epoch train: 302/400: 100%|███████████████████| 49666/49666 [01:09<00:00, 716.28it/s, loss=0.000063]\n"
     ]
    },
    {
     "name": "stdout",
     "output_type": "stream",
     "text": [
      "eval PSNR: 46.37\n"
     ]
    },
    {
     "name": "stderr",
     "output_type": "stream",
     "text": [
      "epoch train: 303/400: 100%|███████████████████| 49666/49666 [01:09<00:00, 713.41it/s, loss=0.000063]\n"
     ]
    },
    {
     "name": "stdout",
     "output_type": "stream",
     "text": [
      "eval PSNR: 46.10\n"
     ]
    },
    {
     "name": "stderr",
     "output_type": "stream",
     "text": [
      "epoch train: 304/400: 100%|███████████████████| 49666/49666 [01:09<00:00, 713.44it/s, loss=0.000063]\n"
     ]
    },
    {
     "name": "stdout",
     "output_type": "stream",
     "text": [
      "eval PSNR: 46.10\n"
     ]
    },
    {
     "name": "stderr",
     "output_type": "stream",
     "text": [
      "epoch train: 305/400: 100%|███████████████████| 49666/49666 [01:09<00:00, 713.22it/s, loss=0.000063]\n"
     ]
    },
    {
     "name": "stdout",
     "output_type": "stream",
     "text": [
      "eval PSNR: 46.32\n"
     ]
    },
    {
     "name": "stderr",
     "output_type": "stream",
     "text": [
      "epoch train: 306/400: 100%|███████████████████| 49666/49666 [01:09<00:00, 713.59it/s, loss=0.000063]\n"
     ]
    },
    {
     "name": "stdout",
     "output_type": "stream",
     "text": [
      "eval PSNR: 46.32\n"
     ]
    },
    {
     "name": "stderr",
     "output_type": "stream",
     "text": [
      "epoch train: 307/400: 100%|███████████████████| 49666/49666 [01:09<00:00, 713.65it/s, loss=0.000063]\n"
     ]
    },
    {
     "name": "stdout",
     "output_type": "stream",
     "text": [
      "eval PSNR: 46.42\n"
     ]
    },
    {
     "name": "stderr",
     "output_type": "stream",
     "text": [
      "epoch train: 308/400: 100%|███████████████████| 49666/49666 [01:09<00:00, 713.14it/s, loss=0.000063]\n"
     ]
    },
    {
     "name": "stdout",
     "output_type": "stream",
     "text": [
      "eval PSNR: 46.35\n"
     ]
    },
    {
     "name": "stderr",
     "output_type": "stream",
     "text": [
      "epoch train: 309/400: 100%|███████████████████| 49666/49666 [01:09<00:00, 712.97it/s, loss=0.000063]\n"
     ]
    },
    {
     "name": "stdout",
     "output_type": "stream",
     "text": [
      "eval PSNR: 45.58\n"
     ]
    },
    {
     "name": "stderr",
     "output_type": "stream",
     "text": [
      "epoch train: 310/400: 100%|███████████████████| 49666/49666 [01:09<00:00, 713.30it/s, loss=0.000063]\n"
     ]
    },
    {
     "name": "stdout",
     "output_type": "stream",
     "text": [
      "eval PSNR: 46.46\n"
     ]
    },
    {
     "name": "stderr",
     "output_type": "stream",
     "text": [
      "epoch train: 311/400: 100%|███████████████████| 49666/49666 [01:09<00:00, 716.47it/s, loss=0.000063]\n"
     ]
    },
    {
     "name": "stdout",
     "output_type": "stream",
     "text": [
      "eval PSNR: 46.38\n"
     ]
    },
    {
     "name": "stderr",
     "output_type": "stream",
     "text": [
      "epoch train: 312/400: 100%|███████████████████| 49666/49666 [01:09<00:00, 713.39it/s, loss=0.000063]\n"
     ]
    },
    {
     "name": "stdout",
     "output_type": "stream",
     "text": [
      "eval PSNR: 46.12\n"
     ]
    },
    {
     "name": "stderr",
     "output_type": "stream",
     "text": [
      "epoch train: 313/400: 100%|███████████████████| 49666/49666 [01:09<00:00, 713.92it/s, loss=0.000063]\n"
     ]
    },
    {
     "name": "stdout",
     "output_type": "stream",
     "text": [
      "eval PSNR: 46.50\n"
     ]
    },
    {
     "name": "stderr",
     "output_type": "stream",
     "text": [
      "epoch train: 314/400: 100%|███████████████████| 49666/49666 [01:09<00:00, 713.25it/s, loss=0.000063]\n"
     ]
    },
    {
     "name": "stdout",
     "output_type": "stream",
     "text": [
      "eval PSNR: 46.32\n"
     ]
    },
    {
     "name": "stderr",
     "output_type": "stream",
     "text": [
      "epoch train: 315/400: 100%|███████████████████| 49666/49666 [01:09<00:00, 713.68it/s, loss=0.000063]\n"
     ]
    },
    {
     "name": "stdout",
     "output_type": "stream",
     "text": [
      "eval PSNR: 46.29\n"
     ]
    },
    {
     "name": "stderr",
     "output_type": "stream",
     "text": [
      "epoch train: 316/400: 100%|███████████████████| 49666/49666 [01:09<00:00, 714.32it/s, loss=0.000063]\n"
     ]
    },
    {
     "name": "stdout",
     "output_type": "stream",
     "text": [
      "eval PSNR: 45.96\n"
     ]
    },
    {
     "name": "stderr",
     "output_type": "stream",
     "text": [
      "epoch train: 317/400: 100%|███████████████████| 49666/49666 [01:09<00:00, 718.74it/s, loss=0.000063]\n"
     ]
    },
    {
     "name": "stdout",
     "output_type": "stream",
     "text": [
      "eval PSNR: 46.28\n"
     ]
    },
    {
     "name": "stderr",
     "output_type": "stream",
     "text": [
      "epoch train: 318/400: 100%|███████████████████| 49666/49666 [01:09<00:00, 714.76it/s, loss=0.000063]\n"
     ]
    },
    {
     "name": "stdout",
     "output_type": "stream",
     "text": [
      "eval PSNR: 46.40\n"
     ]
    },
    {
     "name": "stderr",
     "output_type": "stream",
     "text": [
      "epoch train: 319/400: 100%|███████████████████| 49666/49666 [01:09<00:00, 713.20it/s, loss=0.000063]\n"
     ]
    },
    {
     "name": "stdout",
     "output_type": "stream",
     "text": [
      "eval PSNR: 46.28\n"
     ]
    },
    {
     "name": "stderr",
     "output_type": "stream",
     "text": [
      "epoch train: 320/400: 100%|███████████████████| 49666/49666 [01:09<00:00, 712.89it/s, loss=0.000063]\n"
     ]
    },
    {
     "name": "stdout",
     "output_type": "stream",
     "text": [
      "eval PSNR: 46.10\n"
     ]
    },
    {
     "name": "stderr",
     "output_type": "stream",
     "text": [
      "epoch train: 321/400: 100%|███████████████████| 49666/49666 [01:09<00:00, 713.91it/s, loss=0.000063]\n"
     ]
    },
    {
     "name": "stdout",
     "output_type": "stream",
     "text": [
      "eval PSNR: 46.34\n"
     ]
    },
    {
     "name": "stderr",
     "output_type": "stream",
     "text": [
      "epoch train: 322/400: 100%|███████████████████| 49666/49666 [01:09<00:00, 712.99it/s, loss=0.000062]\n"
     ]
    },
    {
     "name": "stdout",
     "output_type": "stream",
     "text": [
      "eval PSNR: 46.08\n"
     ]
    },
    {
     "name": "stderr",
     "output_type": "stream",
     "text": [
      "epoch train: 323/400: 100%|███████████████████| 49666/49666 [01:09<00:00, 713.43it/s, loss=0.000062]\n"
     ]
    },
    {
     "name": "stdout",
     "output_type": "stream",
     "text": [
      "eval PSNR: 46.22\n"
     ]
    },
    {
     "name": "stderr",
     "output_type": "stream",
     "text": [
      "epoch train: 324/400: 100%|███████████████████| 49666/49666 [01:09<00:00, 713.67it/s, loss=0.000062]\n"
     ]
    },
    {
     "name": "stdout",
     "output_type": "stream",
     "text": [
      "eval PSNR: 46.26\n"
     ]
    },
    {
     "name": "stderr",
     "output_type": "stream",
     "text": [
      "epoch train: 325/400: 100%|███████████████████| 49666/49666 [01:09<00:00, 714.96it/s, loss=0.000062]\n"
     ]
    },
    {
     "name": "stdout",
     "output_type": "stream",
     "text": [
      "eval PSNR: 46.31\n"
     ]
    },
    {
     "name": "stderr",
     "output_type": "stream",
     "text": [
      "epoch train: 326/400: 100%|███████████████████| 49666/49666 [01:09<00:00, 712.92it/s, loss=0.000062]\n"
     ]
    },
    {
     "name": "stdout",
     "output_type": "stream",
     "text": [
      "eval PSNR: 45.70\n"
     ]
    },
    {
     "name": "stderr",
     "output_type": "stream",
     "text": [
      "epoch train: 327/400: 100%|███████████████████| 49666/49666 [01:09<00:00, 713.68it/s, loss=0.000062]\n"
     ]
    },
    {
     "name": "stdout",
     "output_type": "stream",
     "text": [
      "eval PSNR: 46.00\n"
     ]
    },
    {
     "name": "stderr",
     "output_type": "stream",
     "text": [
      "epoch train: 328/400: 100%|███████████████████| 49666/49666 [01:09<00:00, 712.70it/s, loss=0.000062]\n"
     ]
    },
    {
     "name": "stdout",
     "output_type": "stream",
     "text": [
      "eval PSNR: 46.26\n"
     ]
    },
    {
     "name": "stderr",
     "output_type": "stream",
     "text": [
      "epoch train: 329/400: 100%|███████████████████| 49666/49666 [01:09<00:00, 712.60it/s, loss=0.000062]\n"
     ]
    },
    {
     "name": "stdout",
     "output_type": "stream",
     "text": [
      "eval PSNR: 46.37\n"
     ]
    },
    {
     "name": "stderr",
     "output_type": "stream",
     "text": [
      "epoch train: 330/400: 100%|███████████████████| 49666/49666 [01:09<00:00, 713.68it/s, loss=0.000062]\n"
     ]
    },
    {
     "name": "stdout",
     "output_type": "stream",
     "text": [
      "eval PSNR: 46.19\n"
     ]
    },
    {
     "name": "stderr",
     "output_type": "stream",
     "text": [
      "epoch train: 331/400: 100%|███████████████████| 49666/49666 [01:09<00:00, 713.93it/s, loss=0.000062]\n"
     ]
    },
    {
     "name": "stdout",
     "output_type": "stream",
     "text": [
      "eval PSNR: 44.66\n"
     ]
    },
    {
     "name": "stderr",
     "output_type": "stream",
     "text": [
      "epoch train: 332/400: 100%|███████████████████| 49666/49666 [01:09<00:00, 713.95it/s, loss=0.000062]\n"
     ]
    },
    {
     "name": "stdout",
     "output_type": "stream",
     "text": [
      "eval PSNR: 46.31\n"
     ]
    },
    {
     "name": "stderr",
     "output_type": "stream",
     "text": [
      "epoch train: 333/400: 100%|███████████████████| 49666/49666 [01:09<00:00, 712.94it/s, loss=0.000062]\n"
     ]
    },
    {
     "name": "stdout",
     "output_type": "stream",
     "text": [
      "eval PSNR: 46.31\n"
     ]
    },
    {
     "name": "stderr",
     "output_type": "stream",
     "text": [
      "epoch train: 334/400: 100%|███████████████████| 49666/49666 [01:09<00:00, 712.93it/s, loss=0.000062]\n"
     ]
    },
    {
     "name": "stdout",
     "output_type": "stream",
     "text": [
      "eval PSNR: 46.15\n"
     ]
    },
    {
     "name": "stderr",
     "output_type": "stream",
     "text": [
      "epoch train: 335/400: 100%|███████████████████| 49666/49666 [01:09<00:00, 712.31it/s, loss=0.000062]\n"
     ]
    },
    {
     "name": "stdout",
     "output_type": "stream",
     "text": [
      "eval PSNR: 46.37\n"
     ]
    },
    {
     "name": "stderr",
     "output_type": "stream",
     "text": [
      "epoch train: 336/400: 100%|███████████████████| 49666/49666 [01:09<00:00, 712.44it/s, loss=0.000062]\n"
     ]
    },
    {
     "name": "stdout",
     "output_type": "stream",
     "text": [
      "eval PSNR: 46.07\n"
     ]
    },
    {
     "name": "stderr",
     "output_type": "stream",
     "text": [
      "epoch train: 337/400: 100%|███████████████████| 49666/49666 [01:09<00:00, 711.97it/s, loss=0.000062]\n"
     ]
    },
    {
     "name": "stdout",
     "output_type": "stream",
     "text": [
      "eval PSNR: 46.38\n"
     ]
    },
    {
     "name": "stderr",
     "output_type": "stream",
     "text": [
      "epoch train: 338/400: 100%|███████████████████| 49666/49666 [01:09<00:00, 718.23it/s, loss=0.000062]\n"
     ]
    },
    {
     "name": "stdout",
     "output_type": "stream",
     "text": [
      "eval PSNR: 46.45\n"
     ]
    },
    {
     "name": "stderr",
     "output_type": "stream",
     "text": [
      "epoch train: 339/400: 100%|███████████████████| 49666/49666 [01:09<00:00, 712.38it/s, loss=0.000062]\n"
     ]
    },
    {
     "name": "stdout",
     "output_type": "stream",
     "text": [
      "eval PSNR: 46.24\n"
     ]
    },
    {
     "name": "stderr",
     "output_type": "stream",
     "text": [
      "epoch train: 340/400: 100%|███████████████████| 49666/49666 [01:09<00:00, 712.06it/s, loss=0.000062]\n"
     ]
    },
    {
     "name": "stdout",
     "output_type": "stream",
     "text": [
      "eval PSNR: 46.30\n"
     ]
    },
    {
     "name": "stderr",
     "output_type": "stream",
     "text": [
      "epoch train: 341/400: 100%|███████████████████| 49666/49666 [01:09<00:00, 711.87it/s, loss=0.000062]\n"
     ]
    },
    {
     "name": "stdout",
     "output_type": "stream",
     "text": [
      "eval PSNR: 45.98\n"
     ]
    },
    {
     "name": "stderr",
     "output_type": "stream",
     "text": [
      "epoch train: 342/400: 100%|███████████████████| 49666/49666 [01:09<00:00, 712.66it/s, loss=0.000062]\n"
     ]
    },
    {
     "name": "stdout",
     "output_type": "stream",
     "text": [
      "eval PSNR: 46.37\n"
     ]
    },
    {
     "name": "stderr",
     "output_type": "stream",
     "text": [
      "epoch train: 343/400: 100%|███████████████████| 49666/49666 [01:09<00:00, 710.63it/s, loss=0.000062]\n"
     ]
    },
    {
     "name": "stdout",
     "output_type": "stream",
     "text": [
      "eval PSNR: 46.45\n"
     ]
    },
    {
     "name": "stderr",
     "output_type": "stream",
     "text": [
      "epoch train: 344/400: 100%|███████████████████| 49666/49666 [01:09<00:00, 716.42it/s, loss=0.000062]\n"
     ]
    },
    {
     "name": "stdout",
     "output_type": "stream",
     "text": [
      "eval PSNR: 46.42\n"
     ]
    },
    {
     "name": "stderr",
     "output_type": "stream",
     "text": [
      "epoch train: 345/400: 100%|███████████████████| 49666/49666 [01:09<00:00, 714.24it/s, loss=0.000062]\n"
     ]
    },
    {
     "name": "stdout",
     "output_type": "stream",
     "text": [
      "eval PSNR: 43.23\n"
     ]
    },
    {
     "name": "stderr",
     "output_type": "stream",
     "text": [
      "epoch train: 346/400: 100%|███████████████████| 49666/49666 [01:09<00:00, 712.64it/s, loss=0.000062]\n"
     ]
    },
    {
     "name": "stdout",
     "output_type": "stream",
     "text": [
      "eval PSNR: 45.79\n"
     ]
    },
    {
     "name": "stderr",
     "output_type": "stream",
     "text": [
      "epoch train: 347/400: 100%|███████████████████| 49666/49666 [01:09<00:00, 716.86it/s, loss=0.000062]\n"
     ]
    },
    {
     "name": "stdout",
     "output_type": "stream",
     "text": [
      "eval PSNR: 46.42\n"
     ]
    },
    {
     "name": "stderr",
     "output_type": "stream",
     "text": [
      "epoch train: 348/400: 100%|███████████████████| 49666/49666 [01:09<00:00, 712.49it/s, loss=0.000062]\n"
     ]
    },
    {
     "name": "stdout",
     "output_type": "stream",
     "text": [
      "eval PSNR: 46.42\n"
     ]
    },
    {
     "name": "stderr",
     "output_type": "stream",
     "text": [
      "epoch train: 349/400: 100%|███████████████████| 49666/49666 [01:09<00:00, 713.01it/s, loss=0.000062]\n"
     ]
    },
    {
     "name": "stdout",
     "output_type": "stream",
     "text": [
      "eval PSNR: 46.45\n"
     ]
    },
    {
     "name": "stderr",
     "output_type": "stream",
     "text": [
      "epoch train: 350/400: 100%|███████████████████| 49666/49666 [01:09<00:00, 712.34it/s, loss=0.000062]\n"
     ]
    },
    {
     "name": "stdout",
     "output_type": "stream",
     "text": [
      "eval PSNR: 45.85\n"
     ]
    },
    {
     "name": "stderr",
     "output_type": "stream",
     "text": [
      "epoch train: 351/400: 100%|███████████████████| 49666/49666 [01:09<00:00, 711.96it/s, loss=0.000062]\n"
     ]
    },
    {
     "name": "stdout",
     "output_type": "stream",
     "text": [
      "eval PSNR: 46.39\n"
     ]
    },
    {
     "name": "stderr",
     "output_type": "stream",
     "text": [
      "epoch train: 352/400: 100%|███████████████████| 49666/49666 [01:09<00:00, 711.41it/s, loss=0.000062]\n"
     ]
    },
    {
     "name": "stdout",
     "output_type": "stream",
     "text": [
      "eval PSNR: 46.26\n"
     ]
    },
    {
     "name": "stderr",
     "output_type": "stream",
     "text": [
      "epoch train: 353/400: 100%|███████████████████| 49666/49666 [01:09<00:00, 711.29it/s, loss=0.000062]\n"
     ]
    },
    {
     "name": "stdout",
     "output_type": "stream",
     "text": [
      "eval PSNR: 46.45\n"
     ]
    },
    {
     "name": "stderr",
     "output_type": "stream",
     "text": [
      "epoch train: 354/400: 100%|███████████████████| 49666/49666 [01:09<00:00, 711.40it/s, loss=0.000062]\n"
     ]
    },
    {
     "name": "stdout",
     "output_type": "stream",
     "text": [
      "eval PSNR: 46.07\n"
     ]
    },
    {
     "name": "stderr",
     "output_type": "stream",
     "text": [
      "epoch train: 355/400: 100%|███████████████████| 49666/49666 [01:09<00:00, 711.70it/s, loss=0.000062]\n"
     ]
    },
    {
     "name": "stdout",
     "output_type": "stream",
     "text": [
      "eval PSNR: 46.39\n"
     ]
    },
    {
     "name": "stderr",
     "output_type": "stream",
     "text": [
      "epoch train: 356/400: 100%|███████████████████| 49666/49666 [01:09<00:00, 711.87it/s, loss=0.000062]\n"
     ]
    },
    {
     "name": "stdout",
     "output_type": "stream",
     "text": [
      "eval PSNR: 46.23\n"
     ]
    },
    {
     "name": "stderr",
     "output_type": "stream",
     "text": [
      "epoch train: 357/400: 100%|███████████████████| 49666/49666 [01:09<00:00, 711.80it/s, loss=0.000062]\n"
     ]
    },
    {
     "name": "stdout",
     "output_type": "stream",
     "text": [
      "eval PSNR: 46.30\n"
     ]
    },
    {
     "name": "stderr",
     "output_type": "stream",
     "text": [
      "epoch train: 358/400: 100%|███████████████████| 49666/49666 [01:09<00:00, 713.46it/s, loss=0.000062]\n"
     ]
    },
    {
     "name": "stdout",
     "output_type": "stream",
     "text": [
      "eval PSNR: 45.93\n"
     ]
    },
    {
     "name": "stderr",
     "output_type": "stream",
     "text": [
      "epoch train: 359/400: 100%|███████████████████| 49666/49666 [01:09<00:00, 715.27it/s, loss=0.000062]\n"
     ]
    },
    {
     "name": "stdout",
     "output_type": "stream",
     "text": [
      "eval PSNR: 46.46\n"
     ]
    },
    {
     "name": "stderr",
     "output_type": "stream",
     "text": [
      "epoch train: 360/400: 100%|███████████████████| 49666/49666 [01:09<00:00, 711.81it/s, loss=0.000062]\n"
     ]
    },
    {
     "name": "stdout",
     "output_type": "stream",
     "text": [
      "eval PSNR: 46.11\n"
     ]
    },
    {
     "name": "stderr",
     "output_type": "stream",
     "text": [
      "epoch train: 361/400: 100%|███████████████████| 49666/49666 [01:09<00:00, 711.89it/s, loss=0.000062]\n"
     ]
    },
    {
     "name": "stdout",
     "output_type": "stream",
     "text": [
      "eval PSNR: 46.40\n"
     ]
    },
    {
     "name": "stderr",
     "output_type": "stream",
     "text": [
      "epoch train: 362/400: 100%|███████████████████| 49666/49666 [01:09<00:00, 714.21it/s, loss=0.000062]\n"
     ]
    },
    {
     "name": "stdout",
     "output_type": "stream",
     "text": [
      "eval PSNR: 46.48\n"
     ]
    },
    {
     "name": "stderr",
     "output_type": "stream",
     "text": [
      "epoch train: 363/400: 100%|███████████████████| 49666/49666 [01:09<00:00, 711.61it/s, loss=0.000062]\n"
     ]
    },
    {
     "name": "stdout",
     "output_type": "stream",
     "text": [
      "eval PSNR: 46.34\n"
     ]
    },
    {
     "name": "stderr",
     "output_type": "stream",
     "text": [
      "epoch train: 364/400: 100%|███████████████████| 49666/49666 [01:09<00:00, 712.36it/s, loss=0.000061]\n"
     ]
    },
    {
     "name": "stdout",
     "output_type": "stream",
     "text": [
      "eval PSNR: 46.09\n"
     ]
    },
    {
     "name": "stderr",
     "output_type": "stream",
     "text": [
      "epoch train: 365/400: 100%|███████████████████| 49666/49666 [01:09<00:00, 711.58it/s, loss=0.000062]\n"
     ]
    },
    {
     "name": "stdout",
     "output_type": "stream",
     "text": [
      "eval PSNR: 46.50\n"
     ]
    },
    {
     "name": "stderr",
     "output_type": "stream",
     "text": [
      "epoch train: 366/400: 100%|███████████████████| 49666/49666 [01:09<00:00, 712.85it/s, loss=0.000061]\n"
     ]
    },
    {
     "name": "stdout",
     "output_type": "stream",
     "text": [
      "eval PSNR: 46.19\n"
     ]
    },
    {
     "name": "stderr",
     "output_type": "stream",
     "text": [
      "epoch train: 367/400: 100%|███████████████████| 49666/49666 [01:09<00:00, 712.17it/s, loss=0.000061]\n"
     ]
    },
    {
     "name": "stdout",
     "output_type": "stream",
     "text": [
      "eval PSNR: 46.36\n"
     ]
    },
    {
     "name": "stderr",
     "output_type": "stream",
     "text": [
      "epoch train: 368/400: 100%|███████████████████| 49666/49666 [01:09<00:00, 712.22it/s, loss=0.000061]\n"
     ]
    },
    {
     "name": "stdout",
     "output_type": "stream",
     "text": [
      "eval PSNR: 44.90\n"
     ]
    },
    {
     "name": "stderr",
     "output_type": "stream",
     "text": [
      "epoch train: 369/400: 100%|███████████████████| 49666/49666 [01:09<00:00, 711.76it/s, loss=0.000061]\n"
     ]
    },
    {
     "name": "stdout",
     "output_type": "stream",
     "text": [
      "eval PSNR: 46.26\n"
     ]
    },
    {
     "name": "stderr",
     "output_type": "stream",
     "text": [
      "epoch train: 370/400: 100%|███████████████████| 49666/49666 [01:09<00:00, 711.81it/s, loss=0.000061]\n"
     ]
    },
    {
     "name": "stdout",
     "output_type": "stream",
     "text": [
      "eval PSNR: 46.47\n"
     ]
    },
    {
     "name": "stderr",
     "output_type": "stream",
     "text": [
      "epoch train: 371/400: 100%|███████████████████| 49666/49666 [01:09<00:00, 711.36it/s, loss=0.000061]\n"
     ]
    },
    {
     "name": "stdout",
     "output_type": "stream",
     "text": [
      "eval PSNR: 46.39\n"
     ]
    },
    {
     "name": "stderr",
     "output_type": "stream",
     "text": [
      "epoch train: 372/400: 100%|███████████████████| 49666/49666 [01:09<00:00, 712.08it/s, loss=0.000061]\n"
     ]
    },
    {
     "name": "stdout",
     "output_type": "stream",
     "text": [
      "eval PSNR: 45.82\n"
     ]
    },
    {
     "name": "stderr",
     "output_type": "stream",
     "text": [
      "epoch train: 373/400: 100%|███████████████████| 49666/49666 [01:09<00:00, 712.71it/s, loss=0.000061]\n"
     ]
    },
    {
     "name": "stdout",
     "output_type": "stream",
     "text": [
      "eval PSNR: 46.04\n"
     ]
    },
    {
     "name": "stderr",
     "output_type": "stream",
     "text": [
      "epoch train: 374/400: 100%|███████████████████| 49666/49666 [01:09<00:00, 711.76it/s, loss=0.000061]\n"
     ]
    },
    {
     "name": "stdout",
     "output_type": "stream",
     "text": [
      "eval PSNR: 46.55\n"
     ]
    },
    {
     "name": "stderr",
     "output_type": "stream",
     "text": [
      "epoch train: 375/400: 100%|███████████████████| 49666/49666 [01:09<00:00, 714.14it/s, loss=0.000061]\n"
     ]
    },
    {
     "name": "stdout",
     "output_type": "stream",
     "text": [
      "eval PSNR: 46.34\n"
     ]
    },
    {
     "name": "stderr",
     "output_type": "stream",
     "text": [
      "epoch train: 376/400: 100%|███████████████████| 49666/49666 [01:09<00:00, 717.11it/s, loss=0.000061]\n"
     ]
    },
    {
     "name": "stdout",
     "output_type": "stream",
     "text": [
      "eval PSNR: 46.42\n"
     ]
    },
    {
     "name": "stderr",
     "output_type": "stream",
     "text": [
      "epoch train: 377/400: 100%|███████████████████| 49666/49666 [01:09<00:00, 719.08it/s, loss=0.000061]\n"
     ]
    },
    {
     "name": "stdout",
     "output_type": "stream",
     "text": [
      "eval PSNR: 46.52\n"
     ]
    },
    {
     "name": "stderr",
     "output_type": "stream",
     "text": [
      "epoch train: 378/400: 100%|███████████████████| 49666/49666 [01:09<00:00, 718.44it/s, loss=0.000061]\n"
     ]
    },
    {
     "name": "stdout",
     "output_type": "stream",
     "text": [
      "eval PSNR: 46.48\n"
     ]
    },
    {
     "name": "stderr",
     "output_type": "stream",
     "text": [
      "epoch train: 379/400: 100%|███████████████████| 49666/49666 [01:09<00:00, 718.53it/s, loss=0.000061]\n"
     ]
    },
    {
     "name": "stdout",
     "output_type": "stream",
     "text": [
      "eval PSNR: 46.15\n"
     ]
    },
    {
     "name": "stderr",
     "output_type": "stream",
     "text": [
      "epoch train: 380/400: 100%|███████████████████| 49666/49666 [01:08<00:00, 725.63it/s, loss=0.000061]\n"
     ]
    },
    {
     "name": "stdout",
     "output_type": "stream",
     "text": [
      "eval PSNR: 46.42\n"
     ]
    },
    {
     "name": "stderr",
     "output_type": "stream",
     "text": [
      "epoch train: 381/400: 100%|███████████████████| 49666/49666 [01:08<00:00, 721.12it/s, loss=0.000061]\n"
     ]
    },
    {
     "name": "stdout",
     "output_type": "stream",
     "text": [
      "eval PSNR: 45.87\n"
     ]
    },
    {
     "name": "stderr",
     "output_type": "stream",
     "text": [
      "epoch train: 382/400: 100%|███████████████████| 49666/49666 [01:08<00:00, 721.47it/s, loss=0.000061]\n"
     ]
    },
    {
     "name": "stdout",
     "output_type": "stream",
     "text": [
      "eval PSNR: 46.55\n"
     ]
    },
    {
     "name": "stderr",
     "output_type": "stream",
     "text": [
      "epoch train: 383/400: 100%|███████████████████| 49666/49666 [01:14<00:00, 665.77it/s, loss=0.000061]\n"
     ]
    },
    {
     "name": "stdout",
     "output_type": "stream",
     "text": [
      "eval PSNR: 46.50\n"
     ]
    },
    {
     "name": "stderr",
     "output_type": "stream",
     "text": [
      "epoch train: 384/400: 100%|███████████████████| 49666/49666 [01:08<00:00, 726.32it/s, loss=0.000061]\n"
     ]
    },
    {
     "name": "stdout",
     "output_type": "stream",
     "text": [
      "eval PSNR: 46.47\n"
     ]
    },
    {
     "name": "stderr",
     "output_type": "stream",
     "text": [
      "epoch train: 385/400: 100%|███████████████████| 49666/49666 [01:09<00:00, 716.47it/s, loss=0.000061]\n"
     ]
    },
    {
     "name": "stdout",
     "output_type": "stream",
     "text": [
      "eval PSNR: 46.52\n"
     ]
    },
    {
     "name": "stderr",
     "output_type": "stream",
     "text": [
      "epoch train: 386/400: 100%|███████████████████| 49666/49666 [01:10<00:00, 702.35it/s, loss=0.000061]\n"
     ]
    },
    {
     "name": "stdout",
     "output_type": "stream",
     "text": [
      "eval PSNR: 45.56\n"
     ]
    },
    {
     "name": "stderr",
     "output_type": "stream",
     "text": [
      "epoch train: 387/400: 100%|███████████████████| 49666/49666 [01:11<00:00, 691.65it/s, loss=0.000061]\n"
     ]
    },
    {
     "name": "stdout",
     "output_type": "stream",
     "text": [
      "eval PSNR: 46.10\n"
     ]
    },
    {
     "name": "stderr",
     "output_type": "stream",
     "text": [
      "epoch train: 388/400: 100%|███████████████████| 49666/49666 [01:11<00:00, 692.96it/s, loss=0.000061]\n"
     ]
    },
    {
     "name": "stdout",
     "output_type": "stream",
     "text": [
      "eval PSNR: 46.12\n"
     ]
    },
    {
     "name": "stderr",
     "output_type": "stream",
     "text": [
      "epoch train: 389/400: 100%|███████████████████| 49666/49666 [01:12<00:00, 686.69it/s, loss=0.000061]\n"
     ]
    },
    {
     "name": "stdout",
     "output_type": "stream",
     "text": [
      "eval PSNR: 46.41\n"
     ]
    },
    {
     "name": "stderr",
     "output_type": "stream",
     "text": [
      "epoch train: 390/400: 100%|███████████████████| 49666/49666 [01:12<00:00, 681.05it/s, loss=0.000061]\n"
     ]
    },
    {
     "name": "stdout",
     "output_type": "stream",
     "text": [
      "eval PSNR: 46.24\n"
     ]
    },
    {
     "name": "stderr",
     "output_type": "stream",
     "text": [
      "epoch train: 391/400: 100%|███████████████████| 49666/49666 [01:13<00:00, 679.42it/s, loss=0.000061]\n"
     ]
    },
    {
     "name": "stdout",
     "output_type": "stream",
     "text": [
      "eval PSNR: 46.43\n"
     ]
    },
    {
     "name": "stderr",
     "output_type": "stream",
     "text": [
      "epoch train: 392/400: 100%|███████████████████| 49666/49666 [01:13<00:00, 678.26it/s, loss=0.000061]\n"
     ]
    },
    {
     "name": "stdout",
     "output_type": "stream",
     "text": [
      "eval PSNR: 46.43\n"
     ]
    },
    {
     "name": "stderr",
     "output_type": "stream",
     "text": [
      "epoch train: 393/400: 100%|███████████████████| 49666/49666 [01:13<00:00, 677.43it/s, loss=0.000061]\n"
     ]
    },
    {
     "name": "stdout",
     "output_type": "stream",
     "text": [
      "eval PSNR: 46.16\n"
     ]
    },
    {
     "name": "stderr",
     "output_type": "stream",
     "text": [
      "epoch train: 394/400: 100%|███████████████████| 49666/49666 [01:13<00:00, 676.20it/s, loss=0.000061]\n"
     ]
    },
    {
     "name": "stdout",
     "output_type": "stream",
     "text": [
      "eval PSNR: 46.52\n"
     ]
    },
    {
     "name": "stderr",
     "output_type": "stream",
     "text": [
      "epoch train: 395/400: 100%|███████████████████| 49666/49666 [01:13<00:00, 680.00it/s, loss=0.000061]\n"
     ]
    },
    {
     "name": "stdout",
     "output_type": "stream",
     "text": [
      "eval PSNR: 46.29\n"
     ]
    },
    {
     "name": "stderr",
     "output_type": "stream",
     "text": [
      "epoch train: 396/400: 100%|███████████████████| 49666/49666 [01:13<00:00, 680.30it/s, loss=0.000061]\n"
     ]
    },
    {
     "name": "stdout",
     "output_type": "stream",
     "text": [
      "eval PSNR: 46.41\n"
     ]
    },
    {
     "name": "stderr",
     "output_type": "stream",
     "text": [
      "epoch train: 397/400: 100%|███████████████████| 49666/49666 [01:13<00:00, 679.72it/s, loss=0.000061]\n"
     ]
    },
    {
     "name": "stdout",
     "output_type": "stream",
     "text": [
      "eval PSNR: 45.60\n"
     ]
    },
    {
     "name": "stderr",
     "output_type": "stream",
     "text": [
      "epoch train: 398/400: 100%|███████████████████| 49666/49666 [01:13<00:00, 676.53it/s, loss=0.000061]\n"
     ]
    },
    {
     "name": "stdout",
     "output_type": "stream",
     "text": [
      "eval PSNR: 46.47\n"
     ]
    },
    {
     "name": "stderr",
     "output_type": "stream",
     "text": [
      "epoch train: 399/400: 100%|███████████████████| 49666/49666 [01:13<00:00, 673.63it/s, loss=0.000061]\n"
     ]
    },
    {
     "name": "stdout",
     "output_type": "stream",
     "text": [
      "eval PSNR: 46.46\n"
     ]
    },
    {
     "name": "stderr",
     "output_type": "stream",
     "text": [
      "epoch train: 400/400: 100%|███████████████████| 49666/49666 [01:13<00:00, 672.41it/s, loss=0.000061]\n"
     ]
    },
    {
     "name": "stdout",
     "output_type": "stream",
     "text": [
      "eval PSNR: 46.51\n",
      "best epoch: 373, psnr: 46.55\n",
      "best model saved\n"
     ]
    }
   ],
   "source": [
    "'''\n",
    "training the SRCNN model\n",
    "'''\n",
    "from torch.utils.tensorboard import SummaryWriter\n",
    "\n",
    "total_train_step = 0    # total training step\n",
    "total_val_step = 0      # total validation step\n",
    "\n",
    "# build model\n",
    "srcnn = SRCNN(num_channels=1).to(DEVICE)\n",
    "# loss function\n",
    "loss_fn = nn.MSELoss()\n",
    "#loss_fn = loss_fn.to(DEVICE)\n",
    "# optimizer\n",
    "optimizer = torch.optim.Adam([\n",
    "    {'params': srcnn.conv1.parameters()},\n",
    "    {'params': srcnn.conv2.parameters()},\n",
    "    {'params': srcnn.conv3.parameters(),'lr': LR * 0.1}], lr=LR)\n",
    "# learning rate scheduler\n",
    "#scheduler = lr_scheduler.StepLR(optimizer, step_size=30, gamma=0.5, verbose=True)\n",
    "# visualize (tensorboard)\n",
    "writer = SummaryWriter(\"logs\")\n",
    "\n",
    "best_weights = copy.deepcopy(srcnn.state_dict())\n",
    "best_epoch = 0\n",
    "best_psnr = 0.0\n",
    "\n",
    "torch.cuda.empty_cache()\n",
    "\n",
    "count = 0\n",
    "\n",
    "\n",
    "for i in range(EPOCHS):\n",
    "    \n",
    "    # training\n",
    "    srcnn.train()\n",
    "    epoch_losses = AverageMeter()\n",
    "    \n",
    "    with tqdm(total=(len(train_data)), ncols=100) as t1:\n",
    "        t1.set_description('epoch train: {}/{}'.format(i+1, EPOCHS))\n",
    "        \n",
    "        for data in train_dataloader:\n",
    "            \n",
    "            # get data, transpose to device\n",
    "            lr_imgs, hr_imgs = data\n",
    "            lr_imgs = lr_imgs.to(DEVICE)\n",
    "            hr_imgs = hr_imgs.to(DEVICE)\n",
    "            \n",
    "            # predict\n",
    "            outputs = srcnn(lr_imgs)\n",
    "            \n",
    "            # calculate loss\n",
    "            loss = loss_fn(outputs, hr_imgs)\n",
    "            epoch_losses.update(loss.item(), len(lr_imgs))\n",
    "            \n",
    "            # optimizer\n",
    "            optimizer.zero_grad()\n",
    "            loss.backward()\n",
    "            optimizer.step()\n",
    "            \n",
    "            # print loss\n",
    "            t1.set_postfix(loss='{:.6f}'.format(epoch_losses.avg))\n",
    "\n",
    "            # show on tensorboard\n",
    "            total_train_step += 1            \n",
    "            if total_train_step%1000 == 0:\n",
    "            #    print(\"train step: {}，Loss: {}\".format(total_train_step, loss.item()))\n",
    "                writer.add_scalar(\"train_loss\", epoch_losses.avg, total_train_step)\n",
    "            \n",
    "            # update tqdm\n",
    "            t1.update(len(lr_imgs))\n",
    "    \n",
    "        # scheduler\n",
    "        #scheduler.step()\n",
    "\n",
    "    # validation\n",
    "    if (i+1) % verbose == 0:\n",
    "    \n",
    "        srcnn.eval()\n",
    "        epoch_psnr = AverageMeter()\n",
    "\n",
    "        for data in val_dataloader:\n",
    "            \n",
    "            # get data, transpose to device\n",
    "            lr_imgs, hr_imgs = data\n",
    "            lr_imgs = lr_imgs.to(DEVICE)\n",
    "            hr_imgs = hr_imgs.to(DEVICE)\n",
    "            \n",
    "            # predict (no_grad) is important, not use to update model\n",
    "            # cut compute graphe to reduce needed memory of device and \n",
    "            # accelerate the computation\n",
    "            with torch.no_grad():\n",
    "                outputs = srcnn(lr_imgs).clamp(0.0, 1.0)\n",
    "            \n",
    "            # calculate psnr\n",
    "            psnr =  (outputs, hr_imgs)\n",
    "            # update total psnr\n",
    "            epoch_psnr.update(psnr, len(lr_imgs))\n",
    "        \n",
    "        # print psnr\n",
    "        print('eval PSNR: {:.2f}'.format(epoch_psnr.avg))\n",
    "        \n",
    "        # show in tensorboard\n",
    "        total_val_step += verbose\n",
    "        writer.add_scalar(\"val_psnr\", epoch_psnr.avg, total_val_step) \n",
    "\n",
    "        # save best weights\n",
    "        if epoch_psnr.avg > best_psnr:\n",
    "            best_epoch = i\n",
    "            best_psnr = epoch_psnr.avg\n",
    "            best_weights = copy.deepcopy(srcnn.state_dict())\n",
    "    \n",
    "\n",
    "# close tensorboard\n",
    "writer.close()    \n",
    "\n",
    "# save best model\n",
    "print('best epoch: {}, psnr: {:.2f}'.format(best_epoch, best_psnr))\n",
    "torch.save(best_weights, \"saved_models/srcnn_{}.pth\".format(best_epoch))\n",
    "print(\"best model saved\")"
   ]
  }
 ],
 "metadata": {
  "accelerator": "GPU",
  "colab": {
   "collapsed_sections": [],
   "name": "Copy of SRCNN.ipynb",
   "provenance": []
  },
  "kernelspec": {
   "display_name": "Python 3",
   "language": "python",
   "name": "python3"
  },
  "language_info": {
   "codemirror_mode": {
    "name": "ipython",
    "version": 3
   },
   "file_extension": ".py",
   "mimetype": "text/x-python",
   "name": "python",
   "nbconvert_exporter": "python",
   "pygments_lexer": "ipython3",
   "version": "3.8.8"
  }
 },
 "nbformat": 4,
 "nbformat_minor": 5
}
